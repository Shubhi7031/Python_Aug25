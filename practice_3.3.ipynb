{
 "cells": [
  {
   "cell_type": "code",
   "execution_count": 9,
   "id": "ca450056",
   "metadata": {},
   "outputs": [
    {
     "name": "stdout",
     "output_type": "stream",
     "text": [
      "{'s1': {'class': 2, 'class_teacher': 'Mrs. Yamini'}, 's2': {'class': 3, 'class_teacher': 'Mrs. Renu'}, 's3': {'class': 4, 'class_teacher': 'Mrs. Anjani'}}\n",
      "3\n",
      "dict_keys(['class', 'class_teacher'])\n"
     ]
    }
   ],
   "source": [
    "dict= {\n",
    "\n",
    "\"s1\":{\n",
    "    \"class\": 2,\n",
    "    \"class_teacher\": \"Mrs. Yamini\"},\n",
    "\n",
    "\"s2\":{\n",
    "    \"class\":3,\n",
    "    \"class_teacher\": \"Mrs. Renu\"\n",
    "},\n",
    "\n",
    "\"s3\":{\n",
    "    \"class\":4,\n",
    "    \"class_teacher\":\"Mrs. Anjani\"}\n",
    "\n",
    "}\n",
    "\n",
    "print(dict)\n",
    "print(len(dict))\n",
    "\n",
    "print(dict[\"s1\"].keys())"
   ]
  },
  {
   "cell_type": "code",
   "execution_count": 15,
   "id": "c98aa8db",
   "metadata": {},
   "outputs": [
    {
     "name": "stdout",
     "output_type": "stream",
     "text": [
      "{'s1': {'class': 2, 'class_teacher': 'Mrs. Yamini'}, 's2': {'class': 3, 'class_teacher': 'Mrs. Renu'}, 's3': {'class': 4, 'class_teacher': 'Mrs. Diya'}}\n"
     ]
    }
   ],
   "source": [
    "dict[\"s3\"][\"class_teacher\"]=\"Mrs. Diya\"\n",
    "print(dict)\n"
   ]
  },
  {
   "cell_type": "code",
   "execution_count": 16,
   "id": "bd7b4e6e",
   "metadata": {},
   "outputs": [
    {
     "name": "stdout",
     "output_type": "stream",
     "text": [
      "{1, 2, 4, 6, 8, 11, 15, 16}\n"
     ]
    }
   ],
   "source": [
    "#Sets\n",
    "\n",
    "x={2,1,4,16,11,15,2,4,6,8}\n",
    "print(x)"
   ]
  },
  {
   "cell_type": "code",
   "execution_count": 26,
   "id": "b50aca71",
   "metadata": {},
   "outputs": [
    {
     "name": "stdout",
     "output_type": "stream",
     "text": [
      "{0, 1, 2, 3, 4, 5, 6, 9, 45}\n",
      "{3, 45}\n",
      "{1, 2, 3, 6, 45} {0, 3, 4, 5, 9, 45}\n",
      "{1, 2, 6}\n",
      "{0, 9, 4, 5}\n",
      "{0, 1, 2, 4, 5, 6, 9}\n"
     ]
    }
   ],
   "source": [
    "x={1,2,3,45,6} \n",
    "y={45,9,3,4,5,0}\n",
    "print(x.union(y))\n",
    "print(x.intersection(y))\n",
    "print(x,y)\n",
    "print(x.difference(y))\n",
    "print(y.difference(x))\n",
    "\n",
    "print(x.symmetric_difference(y))"
   ]
  }
 ],
 "metadata": {
  "kernelspec": {
   "display_name": "Python 3",
   "language": "python",
   "name": "python3"
  },
  "language_info": {
   "codemirror_mode": {
    "name": "ipython",
    "version": 3
   },
   "file_extension": ".py",
   "mimetype": "text/x-python",
   "name": "python",
   "nbconvert_exporter": "python",
   "pygments_lexer": "ipython3",
   "version": "3.13.5"
  }
 },
 "nbformat": 4,
 "nbformat_minor": 5
}
