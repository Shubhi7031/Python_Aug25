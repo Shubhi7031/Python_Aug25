{
 "cells": [
  {
   "cell_type": "code",
   "execution_count": 1,
   "id": "ad5ccab3",
   "metadata": {},
   "outputs": [
    {
     "name": "stdout",
     "output_type": "stream",
     "text": [
      "[[1. 0. 0. 0.]\n",
      " [0. 1. 0. 0.]\n",
      " [0. 0. 1. 0.]\n",
      " [0. 0. 0. 1.]]\n"
     ]
    }
   ],
   "source": [
    "# Q1.1: Create a 4x4 identity matrix using np.eye()\n",
    "\n",
    "import numpy as np\n",
    "\n",
    "x= np.eye(4,4)\n",
    "print(x)"
   ]
  },
  {
   "cell_type": "code",
   "execution_count": 4,
   "id": "db3518b8",
   "metadata": {},
   "outputs": [
    {
     "name": "stdout",
     "output_type": "stream",
     "text": [
      "[0. 0. 0. 0. 0. 0. 0. 0.]\n"
     ]
    }
   ],
   "source": [
    "# Q1.2: Create an array of 8 zeros using np.zeros()\n",
    "\n",
    "x= np.zeros(8)\n",
    "print(x)"
   ]
  },
  {
   "cell_type": "code",
   "execution_count": 5,
   "id": "85d4b63f",
   "metadata": {},
   "outputs": [
    {
     "name": "stdout",
     "output_type": "stream",
     "text": [
      "[1. 1. 1. 1. 1. 1.]\n"
     ]
    }
   ],
   "source": [
    "# Q1.3: Create an array of 6 ones using np.ones()\n",
    "\n",
    "x= np.ones(6)\n",
    "print(x)"
   ]
  },
  {
   "cell_type": "code",
   "execution_count": 6,
   "id": "203baf62",
   "metadata": {},
   "outputs": [
    {
     "name": "stdout",
     "output_type": "stream",
     "text": [
      "[ 0  1  2  3  4  5  6  7  8  9 10 11 12 13 14]\n"
     ]
    }
   ],
   "source": [
    "# Q1.4: Create an array with values from 0 to 15 using np.arange()\n",
    "x= np.arange(0,15)\n",
    "print(x)"
   ]
  },
  {
   "cell_type": "code",
   "execution_count": 7,
   "id": "eb412f10",
   "metadata": {},
   "outputs": [
    {
     "name": "stdout",
     "output_type": "stream",
     "text": [
      "[  0.          14.28571429  28.57142857  42.85714286  57.14285714\n",
      "  71.42857143  85.71428571 100.        ]\n"
     ]
    }
   ],
   "source": [
    "# Q1.5: Create an array with 8 evenly spaced values from 0 to 100 using np.linspace()\n",
    "\n",
    "x= np.linspace(0,100,8)\n",
    "print(x)"
   ]
  },
  {
   "cell_type": "code",
   "execution_count": 23,
   "id": "02e0b30f",
   "metadata": {},
   "outputs": [
    {
     "name": "stdout",
     "output_type": "stream",
     "text": [
      "[[ 111.  2989.5  500.    10.     5. ]\n",
      " [ 222.  4000.1  600.     6.    15. ]\n",
      " [ 444.   900.9  900.     8.     5. ]\n",
      " [ 333.  5000.   800.    13.    18. ]\n",
      " [ 777.  5848.8  700.    25.    20. ]\n",
      " [ 888.  4893.5  850.    16.    10. ]\n",
      " [ 555.  6798.2  600.     6.    17. ]\n",
      " [   0.  4886.2  400.    10.    22. ]\n",
      " [ 999.  9876.2  500.    12.     2. ]\n",
      " [ 666.  3003.6  800.    22.    30. ]]\n"
     ]
    }
   ],
   "source": [
    "# The assignment uses banking industry data with 10 rows × 5 columns:\n",
    "\n",
    "# Customer_ID: Unique identifier for each customer\n",
    "# Account_Balance: Customer's account balance in dollars\n",
    "# Credit_Score: Customer's credit score (300-900 range)\n",
    "# Transaction_Count: Number of transactions in the last month\n",
    "# Years_Active: Number of years the customer has been with the bank\n",
    "\n",
    "banking_data= np.array([[111,2989.5,500,10,5],\n",
    "                        [222,4000.1,600,6,15],\n",
    "                        [444,900.9,900,8,5],\n",
    "                        [333,5000,800,13,18],\n",
    "                        [777,5848.8,700,25,20],\n",
    "                        [888,4893.5,850,16,10],\n",
    "                        [555,6798.2,600,6,17],\n",
    "                        [000,4886.2,400,10,22],\n",
    "                        [999,9876.2,500,12,2],\n",
    "                        [666,3003.6,800,22,30]   \n",
    "                        ])\n",
    "\n",
    "\n",
    "np.set_printoptions(suppress=True, precision=2)\n",
    "print(banking_data)"
   ]
  },
  {
   "cell_type": "code",
   "execution_count": 3,
   "id": "996df3cd",
   "metadata": {},
   "outputs": [
    {
     "name": "stdout",
     "output_type": "stream",
     "text": [
      "(10, 5)\n"
     ]
    }
   ],
   "source": [
    "# Q2.1: What is the shape of the banking_data array?\n",
    "import numpy as np\n",
    "banking_data= np.array([[111,2989.5,500,10,5],\n",
    "                        [222,4000.1,600,6,15],\n",
    "                        [444,900.9,900,8,5],\n",
    "                        [333,5000,800,13,18],\n",
    "                        [777,5848.8,700,25,20],\n",
    "                        [888,4893.5,850,16,10],\n",
    "                        [555,6798.2,600,6,17],\n",
    "                        [000,4886.2,400,10,22],\n",
    "                        [999,9876.2,500,12,2],\n",
    "                        [666,3003.6,800,22,30]   \n",
    "                        ])\n",
    "\n",
    "\n",
    "np.set_printoptions(suppress=True, precision=2)\n",
    "\n",
    "print(banking_data.shape)"
   ]
  },
  {
   "cell_type": "code",
   "execution_count": 4,
   "id": "4571afd5",
   "metadata": {},
   "outputs": [
    {
     "data": {
      "text/plain": [
       "dtype('float64')"
      ]
     },
     "execution_count": 4,
     "metadata": {},
     "output_type": "execute_result"
    }
   ],
   "source": [
    "# Q2.2: What is the data type of the banking_data array?\n",
    "banking_data.dtype"
   ]
  },
  {
   "cell_type": "code",
   "execution_count": 6,
   "id": "6920ecf2",
   "metadata": {},
   "outputs": [
    {
     "name": "stdout",
     "output_type": "stream",
     "text": [
      "50\n"
     ]
    }
   ],
   "source": [
    "# Q2.3: What is the size (total number of elements) of the banking_data array?\n",
    "print(banking_data.size)"
   ]
  },
  {
   "cell_type": "code",
   "execution_count": 7,
   "id": "e938cebe",
   "metadata": {},
   "outputs": [
    {
     "name": "stdout",
     "output_type": "stream",
     "text": [
      "2\n"
     ]
    }
   ],
   "source": [
    "# Q2.4: What is the number of dimensions of the banking_data array?\n",
    "print(banking_data.ndim)"
   ]
  },
  {
   "cell_type": "code",
   "execution_count": 8,
   "id": "479cd38e",
   "metadata": {},
   "outputs": [
    {
     "name": "stdout",
     "output_type": "stream",
     "text": [
      "400\n"
     ]
    }
   ],
   "source": [
    "# Q2.5: What is the memory size of the banking_data array in bytes?\n",
    "print(banking_data.nbytes)"
   ]
  },
  {
   "cell_type": "code",
   "execution_count": 10,
   "id": "df0d1c63",
   "metadata": {},
   "outputs": [
    {
     "name": "stdout",
     "output_type": "stream",
     "text": [
      "[ 111.  2989.5  500.    10.     5. ]\n"
     ]
    }
   ],
   "source": [
    "# Q3.1: Extract the first row of banking_data\n",
    "print(banking_data[0,:])"
   ]
  },
  {
   "cell_type": "code",
   "execution_count": 11,
   "id": "f258f00c",
   "metadata": {},
   "outputs": [
    {
     "name": "stdout",
     "output_type": "stream",
     "text": [
      "[ 666.  3003.6  800.    22.    30. ]\n"
     ]
    }
   ],
   "source": [
    "# Q3.2: Extract the last row of banking_data\n",
    "print(banking_data[9,:])"
   ]
  },
  {
   "cell_type": "code",
   "execution_count": 12,
   "id": "2b089c18",
   "metadata": {},
   "outputs": [
    {
     "name": "stdout",
     "output_type": "stream",
     "text": [
      "[2989.5 4000.1  900.9 5000.  5848.8 4893.5 6798.2 4886.2 9876.2 3003.6]\n"
     ]
    }
   ],
   "source": [
    "# Q3.3: Extract the Account_Balance column (column index 1)\n",
    "print(banking_data[:,1])"
   ]
  },
  {
   "cell_type": "code",
   "execution_count": 13,
   "id": "7b9445f1",
   "metadata": {},
   "outputs": [
    {
     "name": "stdout",
     "output_type": "stream",
     "text": [
      "[[ 111.  2989.5  500. ]\n",
      " [ 222.  4000.1  600. ]\n",
      " [ 444.   900.9  900. ]\n",
      " [ 333.  5000.   800. ]]\n"
     ]
    }
   ],
   "source": [
    "# Q3.4: Extract the first 4 rows and first 3 columns\n",
    "print(banking_data[0:4,0:3])"
   ]
  },
  {
   "cell_type": "code",
   "execution_count": null,
   "id": "35e0e704",
   "metadata": {},
   "outputs": [
    {
     "name": "stdout",
     "output_type": "stream",
     "text": [
      "[[ 444.   900.9  900.     8.     5. ]\n",
      " [ 333.  5000.   800.    13.    18. ]\n",
      " [ 777.  5848.8  700.    25.    20. ]\n",
      " [ 888.  4893.5  850.    16.    10. ]\n",
      " [ 555.  6798.2  600.     6.    17. ]]\n"
     ]
    }
   ],
   "source": [
    "# Q3.5: Extract rows 3 to 7 (inclusive)\n",
    "banking_data= np.array([[111,2989.5,500,10,5],\n",
    "                        [222,4000.1,600,6,15],\n",
    "                        [444,900.9,900,8,5],\n",
    "                        [333,5000,800,13,18],\n",
    "                        [777,5848.8,700,25,20],\n",
    "                        [888,4893.5,850,16,10],\n",
    "                        [555,6798.2,600,6,17],\n",
    "                        [000,4886.2,400,10,22],\n",
    "                        [999,9876.2,500,12,2],\n",
    "                        [666,3003.6,800,22,30]   \n",
    "                        ])\n",
    "print(banking_data[2:7,:])"
   ]
  },
  {
   "cell_type": "code",
   "execution_count": 16,
   "metadata": {},
   "outputs": [
    {
     "name": "stdout",
     "output_type": "stream",
     "text": [
      "48196.99999999999\n"
     ]
    }
   ],
   "source": [
    "# Q4.1: Calculate the sum of all account balances\n",
    "x= np.sum(banking_data[:,1])\n",
    "print(x)"
   ]
  },
  {
   "cell_type": "code",
   "execution_count": 18,
   "id": "56d1f883",
   "metadata": {},
   "outputs": [
    {
     "name": "stdout",
     "output_type": "stream",
     "text": [
      "4819.699999999999\n"
     ]
    }
   ],
   "source": [
    "# Q4.2: Calculate the mean account balance\n",
    "x= np.mean(banking_data[:,1])\n",
    "print(x)"
   ]
  },
  {
   "cell_type": "code",
   "execution_count": 20,
   "id": "2a36bdbb",
   "metadata": {},
   "outputs": [
    {
     "name": "stdout",
     "output_type": "stream",
     "text": [
      "2307.8272669331213\n"
     ]
    }
   ],
   "source": [
    "# Q4.3: Calculate the standard deviation of account balances\n",
    "x= np.std(banking_data[:,1])\n",
    "print(x)"
   ]
  },
  {
   "cell_type": "code",
   "execution_count": 22,
   "id": "bbde01b5",
   "metadata": {},
   "outputs": [
    {
     "name": "stdout",
     "output_type": "stream",
     "text": [
      "5326066.694\n"
     ]
    }
   ],
   "source": [
    "# Q4.4: Calculate the variance of account balances\n",
    "x= np.var(banking_data[:,1])\n",
    "print(x)"
   ]
  },
  {
   "cell_type": "code",
   "execution_count": 23,
   "metadata": {},
   "outputs": [
    {
     "name": "stdout",
     "output_type": "stream",
     "text": [
      "4889.85\n"
     ]
    }
   ],
   "source": [
    "# Q4.5: Calculate the median account balance\n",
    "x= np.median(banking_data[:,1])\n",
    "print(x)"
   ]
  },
  {
   "cell_type": "code",
   "execution_count": 24,
   "id": "2b58148c",
   "metadata": {},
   "outputs": [
    {
     "name": "stdout",
     "output_type": "stream",
     "text": [
      "9876.2\n",
      "900.9\n"
     ]
    },
    {
     "data": {
      "text/plain": [
       "(None, None)"
      ]
     },
     "execution_count": 24,
     "metadata": {},
     "output_type": "execute_result"
    }
   ],
   "source": [
    "# Q5.1: Find the minimum and maximum account balances\n",
    "x= np.max(banking_data[:,1])\n",
    "y= np.min(banking_data[:,1])\n",
    "print(x), print(y)"
   ]
  },
  {
   "cell_type": "code",
   "execution_count": 25,
   "id": "42ad3427",
   "metadata": {},
   "outputs": [
    {
     "name": "stdout",
     "output_type": "stream",
     "text": [
      "900.0\n",
      "400.0\n"
     ]
    },
    {
     "data": {
      "text/plain": [
       "(None, None)"
      ]
     },
     "execution_count": 25,
     "metadata": {},
     "output_type": "execute_result"
    }
   ],
   "source": [
    "# Q5.2: Find the minimum and maximum credit scores\n",
    "x= np.max(banking_data[:,2])\n",
    "y= np.min(banking_data[:,2])\n",
    "print(x), print(y)"
   ]
  },
  {
   "cell_type": "code",
   "execution_count": 28,
   "metadata": {},
   "outputs": [
    {
     "name": "stdout",
     "output_type": "stream",
     "text": [
      "3252.725\n",
      "4889.85\n",
      "5636.6\n"
     ]
    },
    {
     "data": {
      "text/plain": [
       "(None, None, None)"
      ]
     },
     "execution_count": 28,
     "metadata": {},
     "output_type": "execute_result"
    }
   ],
   "source": [
    "# Q5.3: Calculate the percentile values for account balances (25th, 50th, 75th)\n",
    "p25= np.percentile(banking_data[:,1],25)\n",
    "p50= np.percentile(banking_data[:,1],50)\n",
    "p75= np.percentile(banking_data[:,1],75)\n",
    "\n",
    "print(p25), print(p50), print(p75)"
   ]
  },
  {
   "cell_type": "code",
   "execution_count": 29,
   "id": "7a2c7bc8",
   "metadata": {},
   "outputs": [
    {
     "name": "stdout",
     "output_type": "stream",
     "text": [
      "-0.46128061366331713\n"
     ]
    }
   ],
   "source": [
    "# Q5.4: Calculate the correlation between account balance and credit score\n",
    "banking_data= np.array([[111,2989.5,500,10,5],\n",
    "                        [222,4000.1,600,6,15],\n",
    "                        [444,900.9,900,8,5],\n",
    "                        [333,5000,800,13,18],\n",
    "                        [777,5848.8,700,25,20],\n",
    "                        [888,4893.5,850,16,10],\n",
    "                        [555,6798.2,600,6,17],\n",
    "                        [000,4886.2,400,10,22],\n",
    "                        [999,9876.2,500,12,2],\n",
    "                        [666,3003.6,800,22,30]   \n",
    "                        ])\n",
    "\n",
    "x= np.corrcoef(banking_data[:,1], banking_data[:,2])[0,1]\n",
    "print(x)"
   ]
  },
  {
   "cell_type": "code",
   "execution_count": 30,
   "id": "12119840",
   "metadata": {},
   "outputs": [
    {
     "name": "stdout",
     "output_type": "stream",
     "text": [
      "-190818.88888888888\n"
     ]
    }
   ],
   "source": [
    "# Q5.5: Calculate the covariance between account balance and credit score\n",
    "x= np.cov(banking_data[:,1],banking_data[:,2])[0,1]\n",
    "print(x)"
   ]
  },
  {
   "cell_type": "code",
   "execution_count": 31,
   "id": "8ad3da83",
   "metadata": {},
   "outputs": [
    {
     "name": "stdout",
     "output_type": "stream",
     "text": [
      "[[ 111.  2989.5  500.    10.     5. ]\n",
      " [ 222.  4000.1  600.     6.    15. ]\n",
      " [ 444.   900.9  900.     8.     5. ]\n",
      " [ 333.  5000.   800.    13.    18. ]\n",
      " [ 777.  5848.8  700.    25.    20. ]\n",
      " [ 888.  4893.5  850.    16.    10. ]\n",
      " [ 555.  6798.2  600.     6.    17. ]\n",
      " [   0.  4886.2  400.    10.    22. ]\n",
      " [ 999.  9876.2  500.    12.     2. ]\n",
      " [ 666.  3003.6  800.    22.    30. ]]\n"
     ]
    }
   ],
   "source": [
    "print(banking_data)"
   ]
  },
  {
   "cell_type": "code",
   "execution_count": 32,
   "id": "79b42b7f",
   "metadata": {},
   "outputs": [
    {
     "name": "stdout",
     "output_type": "stream",
     "text": [
      "Covariance between account balance and credit score: -190818.88888888888\n"
     ]
    }
   ],
   "source": [
    "import numpy as np\n",
    "\n",
    "# Your banking data\n",
    "banking_data = np.array([\n",
    "    [111.,  2989.5, 500., 10., 5.],\n",
    "    [222.,  4000.1, 600., 6., 15.],\n",
    "    [444.,   900.9, 900., 8., 5.],\n",
    "    [333.,  5000.,  800., 13., 18.],\n",
    "    [777.,  5848.8, 700., 25., 20.],\n",
    "    [888.,  4893.5, 850., 16., 10.],\n",
    "    [555.,  6798.2, 600., 6., 17.],\n",
    "    [0.,    4886.2, 400., 10., 22.],\n",
    "    [999.,  9876.2, 500., 12., 2.],\n",
    "    [666.,  3003.6, 800., 22., 30.]\n",
    "])\n",
    "\n",
    "# Calculate covariance between account balance (col 1) and credit score (col 2)\n",
    "covariance = np.cov(banking_data[:, 1], banking_data[:, 2])[0, 1]\n",
    "print(\"Covariance between account balance and credit score:\", covariance)\n"
   ]
  },
  {
   "cell_type": "code",
   "execution_count": 33,
   "id": "d540761c",
   "metadata": {},
   "outputs": [
    {
     "name": "stdout",
     "output_type": "stream",
     "text": [
      "[[ 111.  2989.5  500.    10.     5.   222.  4000.1  600.     6.    15. ]\n",
      " [ 444.   900.9  900.     8.     5.   333.  5000.   800.    13.    18. ]\n",
      " [ 777.  5848.8  700.    25.    20.   888.  4893.5  850.    16.    10. ]\n",
      " [ 555.  6798.2  600.     6.    17.     0.  4886.2  400.    10.    22. ]\n",
      " [ 999.  9876.2  500.    12.     2.   666.  3003.6  800.    22.    30. ]]\n"
     ]
    }
   ],
   "source": [
    "# Q6.1: Reshape the banking_data to 5 rows × 10 columns\n",
    "x= banking_data.reshape(5,10)\n",
    "print(x)"
   ]
  },
  {
   "cell_type": "code",
   "execution_count": 34,
   "id": "a250c4e9",
   "metadata": {},
   "outputs": [
    {
     "name": "stdout",
     "output_type": "stream",
     "text": [
      "[ 111.  2989.5  500.    10.     5.   222.  4000.1  600.     6.    15.\n",
      "  444.   900.9  900.     8.     5.   333.  5000.   800.    13.    18.\n",
      "  777.  5848.8  700.    25.    20.   888.  4893.5  850.    16.    10.\n",
      "  555.  6798.2  600.     6.    17.     0.  4886.2  400.    10.    22.\n",
      "  999.  9876.2  500.    12.     2.   666.  3003.6  800.    22.    30. ]\n"
     ]
    }
   ],
   "source": [
    "# Q6.2: Flatten the banking_data to a 1D array\n",
    "print(banking_data.flatten())"
   ]
  },
  {
   "cell_type": "code",
   "execution_count": 35,
   "id": "1fe1858e",
   "metadata": {},
   "outputs": [
    {
     "data": {
      "text/plain": [
       "array([[ 111. ,  222. ,  444. ,  333. ,  777. ,  888. ,  555. ,    0. ,\n",
       "         999. ,  666. ],\n",
       "       [2989.5, 4000.1,  900.9, 5000. , 5848.8, 4893.5, 6798.2, 4886.2,\n",
       "        9876.2, 3003.6],\n",
       "       [ 500. ,  600. ,  900. ,  800. ,  700. ,  850. ,  600. ,  400. ,\n",
       "         500. ,  800. ],\n",
       "       [  10. ,    6. ,    8. ,   13. ,   25. ,   16. ,    6. ,   10. ,\n",
       "          12. ,   22. ],\n",
       "       [   5. ,   15. ,    5. ,   18. ,   20. ,   10. ,   17. ,   22. ,\n",
       "           2. ,   30. ]])"
      ]
     },
     "execution_count": 35,
     "metadata": {},
     "output_type": "execute_result"
    }
   ],
   "source": [
    "# Q6.3: Transpose the banking_data\n",
    "banking_data.T"
   ]
  },
  {
   "cell_type": "code",
   "execution_count": 40,
   "id": "870d1c30",
   "metadata": {},
   "outputs": [
    {
     "name": "stdout",
     "output_type": "stream",
     "text": [
      "[array([[ 111. , 2989.5,  500. ,   10. ,    5. ],\n",
      "       [ 222. , 4000.1,  600. ,    6. ,   15. ],\n",
      "       [ 444. ,  900.9,  900. ,    8. ,    5. ],\n",
      "       [ 333. , 5000. ,  800. ,   13. ,   18. ],\n",
      "       [ 777. , 5848.8,  700. ,   25. ,   20. ]]), array([[ 888. , 4893.5,  850. ,   16. ,   10. ],\n",
      "       [ 555. , 6798.2,  600. ,    6. ,   17. ],\n",
      "       [   0. , 4886.2,  400. ,   10. ,   22. ],\n",
      "       [ 999. , 9876.2,  500. ,   12. ,    2. ],\n",
      "       [ 666. , 3003.6,  800. ,   22. ,   30. ]])]\n"
     ]
    }
   ],
   "source": [
    "# Q6.4: Split the banking_data into 2 equal parts vertically\n",
    "x= np.vsplit(banking_data,2)\n",
    "print(x)"
   ]
  },
  {
   "cell_type": "code",
   "execution_count": 43,
   "id": "4d672d1a",
   "metadata": {},
   "outputs": [
    {
     "name": "stdout",
     "output_type": "stream",
     "text": [
      "[array([[111.],\n",
      "       [222.],\n",
      "       [444.],\n",
      "       [333.],\n",
      "       [777.],\n",
      "       [888.],\n",
      "       [555.],\n",
      "       [  0.],\n",
      "       [999.],\n",
      "       [666.]]), array([[2989.5],\n",
      "       [4000.1],\n",
      "       [ 900.9],\n",
      "       [5000. ],\n",
      "       [5848.8],\n",
      "       [4893.5],\n",
      "       [6798.2],\n",
      "       [4886.2],\n",
      "       [9876.2],\n",
      "       [3003.6]]), array([[500.],\n",
      "       [600.],\n",
      "       [900.],\n",
      "       [800.],\n",
      "       [700.],\n",
      "       [850.],\n",
      "       [600.],\n",
      "       [400.],\n",
      "       [500.],\n",
      "       [800.]]), array([[10.],\n",
      "       [ 6.],\n",
      "       [ 8.],\n",
      "       [13.],\n",
      "       [25.],\n",
      "       [16.],\n",
      "       [ 6.],\n",
      "       [10.],\n",
      "       [12.],\n",
      "       [22.]]), array([[ 5.],\n",
      "       [15.],\n",
      "       [ 5.],\n",
      "       [18.],\n",
      "       [20.],\n",
      "       [10.],\n",
      "       [17.],\n",
      "       [22.],\n",
      "       [ 2.],\n",
      "       [30.]])]\n"
     ]
    }
   ],
   "source": [
    "# Q6.5: Split the banking_data into 2 equal parts horizontally\n",
    "x= np.hsplit(banking_data,5)\n",
    "print(x)"
   ]
  },
  {
   "cell_type": "code",
   "execution_count": null,
   "id": "98549791",
   "metadata": {},
   "outputs": [
    {
     "name": "stdout",
     "output_type": "stream",
     "text": [
      "[[ 111.  2989.5  500.    10.     5. ]\n",
      " [ 222.  4000.1  600.     6.    15. ]\n",
      " [ 444.   900.9  900.     8.     5. ]\n",
      " [ 333.  5000.   800.    13.    18. ]\n",
      " [ 777.  5848.8  700.    25.    20. ]\n",
      " [ 888.  4893.5  850.    16.    10. ]\n",
      " [ 555.  6798.2  600.     6.    17. ]\n",
      " [   0.  4886.2  400.    10.    22. ]\n",
      " [ 999.  9876.2  500.    12.     2. ]\n",
      " [ 666.  3003.6  800.    22.    30. ]]\n"
     ]
    }
   ],
   "source": [
    "print(banking_data)\n",
    "# Customer_ID: Unique identifier for each customer\n",
    "# Account_Balance: Customer's account balance in dollars\n",
    "# Credit_Score: Customer's credit score (300-900 range)\n",
    "# Transaction_Count: Number of transactions in the last month\n",
    "# Years_Active: Number of years the customer has been with the bank"
   ]
  },
  {
   "cell_type": "code",
   "execution_count": 50,
   "id": "f37ee862",
   "metadata": {},
   "outputs": [
    {
     "name": "stdout",
     "output_type": "stream",
     "text": [
      "[]\n"
     ]
    }
   ],
   "source": [
    "# Q7.1: Find customers with account balance greater than $100,000\n",
    "x=(banking_data[:,1]>100000)\n",
    "print(banking_data[x])"
   ]
  },
  {
   "cell_type": "code",
   "execution_count": 58,
   "id": "1d3a7ce8",
   "metadata": {},
   "outputs": [
    {
     "name": "stdout",
     "output_type": "stream",
     "text": [
      "[444. 888.]\n"
     ]
    }
   ],
   "source": [
    "# Q7.2: Find customers with credit score greater than 800\n",
    "Customer_ID= banking_data[:,0]\n",
    "x= Customer_ID[banking_data[:,2]>800]\n",
    "print(x)"
   ]
  },
  {
   "cell_type": "code",
   "execution_count": 57,
   "id": "0961fbc3",
   "metadata": {},
   "outputs": [
    {
     "name": "stdout",
     "output_type": "stream",
     "text": [
      "Customer IDs with credit score > 800: [444. 888.]\n"
     ]
    }
   ],
   "source": [
    "# Extract customer IDs from column 0\n",
    "Customer_ID = banking_data[:, 0]\n",
    "\n",
    "# Get IDs of customers with credit score > 800 (from column 2)\n",
    "x = Customer_ID[banking_data[:, 2] > 800]\n",
    "print(\"Customer IDs with credit score > 800:\", x)"
   ]
  },
  {
   "cell_type": "code",
   "execution_count": null,
   "id": "041a77a3",
   "metadata": {},
   "outputs": [
    {
     "name": "stdout",
     "output_type": "stream",
     "text": [
      "[[ 111.  2989.5  500.    10.     5. ]\n",
      " [ 222.  4000.1  600.     6.    15. ]\n",
      " [ 444.   900.9  900.     8.     5. ]\n",
      " [ 333.  5000.   800.    13.    18. ]\n",
      " [ 777.  5848.8  700.    25.    20. ]\n",
      " [ 888.  4893.5  850.    16.    10. ]\n",
      " [ 555.  6798.2  600.     6.    17. ]\n",
      " [   0.  4886.2  400.    10.    22. ]\n",
      " [ 999.  9876.2  500.    12.     2. ]\n",
      " [ 666.  3003.6  800.    22.    30. ]]\n"
     ]
    }
   ],
   "source": [
    "\n",
    "print(banking_data)\n",
    "# Customer_ID: Unique identifier for each customer\n",
    "# Account_Balance: Customer's account balance in dollars\n",
    "# Credit_Score: Customer's credit score (300-900 range)\n",
    "# Transaction_Count: Number of transactions in the last month\n",
    "# Years_Active: Number of years the customer has been with the bank\n"
   ]
  },
  {
   "cell_type": "code",
   "execution_count": 65,
   "id": "5b4b35e9",
   "metadata": {},
   "outputs": [
    {
     "name": "stdout",
     "output_type": "stream",
     "text": [
      "[]\n"
     ]
    }
   ],
   "source": [
    "# Q7.3: Find customers with transaction count greater than 50 AND credit score less than 750\n",
    "Transaction_Count=banking_data[:,3]\n",
    "Credit_Score=banking_data[:,2]\n",
    "Customers_ID=banking_data[:,0]\n",
    "x= banking_data[(banking_data[:,3]>50) & (banking_data[:,2]<750)]\n",
    "print(x)"
   ]
  },
  {
   "cell_type": "code",
   "execution_count": 63,
   "id": "61eda5ef",
   "metadata": {},
   "outputs": [
    {
     "name": "stdout",
     "output_type": "stream",
     "text": [
      "0\n"
     ]
    }
   ],
   "source": [
    "# Q7.4: Count how many customers have account balance between $10,000 and $100,000\n",
    "count= np.sum((banking_data[:,1]>10000) & (banking_data[:,1]<100000))\n",
    "print(count)"
   ]
  },
  {
   "cell_type": "code",
   "execution_count": 69,
   "id": "e4f76041",
   "metadata": {},
   "outputs": [
    {
     "name": "stdout",
     "output_type": "stream",
     "text": [
      "2\n"
     ]
    }
   ],
   "source": [
    "# Q7.5: Find the index of the customer with the highest credit score\n",
    "x= np.argmax(banking_data[:,2])\n",
    "print(x)"
   ]
  },
  {
   "cell_type": "code",
   "execution_count": 76,
   "id": "e49255db",
   "metadata": {},
   "outputs": [
    {
     "name": "stdout",
     "output_type": "stream",
     "text": [
      "[[ 444.   900.9  900.     8.     5. ]\n",
      " [ 111.  2989.5  500.    10.     5. ]\n",
      " [ 666.  3003.6  800.    22.    30. ]\n",
      " [ 222.  4000.1  600.     6.    15. ]\n",
      " [   0.  4886.2  400.    10.    22. ]\n",
      " [ 888.  4893.5  850.    16.    10. ]\n",
      " [ 333.  5000.   800.    13.    18. ]\n",
      " [ 777.  5848.8  700.    25.    20. ]\n",
      " [ 555.  6798.2  600.     6.    17. ]\n",
      " [ 999.  9876.2  500.    12.     2. ]]\n"
     ]
    }
   ],
   "source": [
    "# Q8.1: Sort the banking_data by account balance (ascending)\n",
    "\n",
    "x= banking_data[banking_data[:,1].argsort()]\n",
    "print(x)"
   ]
  },
  {
   "cell_type": "code",
   "execution_count": 79,
   "id": "179b20d6",
   "metadata": {},
   "outputs": [
    {
     "name": "stdout",
     "output_type": "stream",
     "text": [
      "[[ 444.   900.9  900.     8.     5. ]\n",
      " [ 888.  4893.5  850.    16.    10. ]\n",
      " [ 333.  5000.   800.    13.    18. ]\n",
      " [ 666.  3003.6  800.    22.    30. ]\n",
      " [ 777.  5848.8  700.    25.    20. ]\n",
      " [ 222.  4000.1  600.     6.    15. ]\n",
      " [ 555.  6798.2  600.     6.    17. ]\n",
      " [ 999.  9876.2  500.    12.     2. ]\n",
      " [ 111.  2989.5  500.    10.     5. ]\n",
      " [   0.  4886.2  400.    10.    22. ]]\n"
     ]
    }
   ],
   "source": [
    "# Q8.2: Sort the banking_data by credit score (descending)\n",
    "\n",
    "x= banking_data[banking_data[:,2].argsort()[::-1]]\n",
    "print(x)"
   ]
  },
  {
   "cell_type": "code",
   "execution_count": 81,
   "metadata": {},
   "outputs": [
    {
     "name": "stdout",
     "output_type": "stream",
     "text": [
      "[array([8, 0, 2, 5, 1, 6, 3, 4, 7, 9])]\n"
     ]
    }
   ],
   "source": [
    "# Q8.3: Find the indices that would sort the array by years active\n",
    "years_active= [banking_data[:,4].argsort()]\n",
    "print(years_active)"
   ]
  },
  {
   "cell_type": "code",
   "execution_count": 90,
   "id": "3cc0c7d3",
   "metadata": {},
   "outputs": [
    {
     "name": "stdout",
     "output_type": "stream",
     "text": [
      "6\n"
     ]
    }
   ],
   "source": [
    "# Q8.4: Find the customer with the second highest account balance\n",
    "\n",
    "x=banking_data[:,1].argsort()[::-1][1]\n",
    "print(x)\n"
   ]
  },
  {
   "cell_type": "code",
   "execution_count": null,
   "id": "c5980f49",
   "metadata": {},
   "outputs": [
    {
     "name": "stdout",
     "output_type": "stream",
     "text": [
      "[[ 111.  2989.5  500.    10.     5. ]\n",
      " [ 222.  4000.1  600.     6.    15. ]\n",
      " [ 444.   900.9  900.     8.     5. ]\n",
      " [ 333.  5000.   800.    13.    18. ]\n",
      " [ 777.  5848.8  700.    25.    20. ]\n",
      " [ 888.  4893.5  850.    16.    10. ]\n",
      " [ 555.  6798.2  600.     6.    17. ]\n",
      " [   0.  4886.2  400.    10.    22. ]\n",
      " [ 999.  9876.2  500.    12.     2. ]\n",
      " [ 666.  3003.6  800.    22.    30. ]]\n"
     ]
    }
   ],
   "source": [
    "print(banking_data)"
   ]
  },
  {
   "cell_type": "code",
   "execution_count": 6,
   "id": "6aa51b11",
   "metadata": {},
   "outputs": [
    {
     "name": "stdout",
     "output_type": "stream",
     "text": [
      "[ 222.  4000.1  600.     6.    15. ]\n"
     ]
    }
   ],
   "source": [
    "# Q8.5: Find the customer with the lowest transaction count\n",
    "# Your banking data\n",
    "banking_data = np.array([\n",
    "    [111.,  2989.5, 500., 10., 5.],\n",
    "    [222.,  4000.1, 600., 6., 15.],\n",
    "    [444.,   900.9, 900., 8., 5.],\n",
    "    [333.,  5000.,  800., 13., 18.],\n",
    "    [777.,  5848.8, 700., 25., 20.],\n",
    "    [888.,  4893.5, 850., 16., 10.],\n",
    "    [555.,  6798.2, 600., 6., 17.],\n",
    "    [0.,    4886.2, 400., 10., 22.],\n",
    "    [999.,  9876.2, 500., 12., 2.],\n",
    "    [666.,  3003.6, 800., 22., 30.]\n",
    "])\n",
    "\n",
    "import numpy as np\n",
    "lowest_count= np.argmin(banking_data[:,3])\n",
    "x= banking_data[lowest_count]\n",
    "print(x)"
   ]
  },
  {
   "cell_type": "code",
   "execution_count": 7,
   "id": "c6968008",
   "metadata": {},
   "outputs": [
    {
     "name": "stdout",
     "output_type": "stream",
     "text": [
      "[[1.1100e+02 2.9895e+03 5.0000e+02 1.0000e+01 5.0000e+00]\n",
      " [2.2200e+02 4.0001e+03 6.0000e+02 6.0000e+00 1.5000e+01]\n",
      " [4.4400e+02 9.0090e+02 9.0000e+02 8.0000e+00 5.0000e+00]\n",
      " [3.3300e+02 5.0000e+03 8.0000e+02 1.3000e+01 1.8000e+01]\n",
      " [7.7700e+02 5.8488e+03 7.0000e+02 2.5000e+01 2.0000e+01]\n",
      " [8.8800e+02 4.8935e+03 8.5000e+02 1.6000e+01 1.0000e+01]\n",
      " [5.5500e+02 6.7982e+03 6.0000e+02 6.0000e+00 1.7000e+01]\n",
      " [0.0000e+00 4.8862e+03 4.0000e+02 1.0000e+01 2.2000e+01]\n",
      " [9.9900e+02 9.8762e+03 5.0000e+02 1.2000e+01 2.0000e+00]\n",
      " [6.6600e+02 3.0036e+03 8.0000e+02 2.2000e+01 3.0000e+01]]\n"
     ]
    }
   ],
   "source": [
    "# Q9.1: Calculate the absolute values of all elements\n",
    "x= np.abs(banking_data)\n",
    "print(x)"
   ]
  },
  {
   "cell_type": "code",
   "execution_count": 9,
   "id": "4bbf76b1",
   "metadata": {},
   "outputs": [
    {
     "name": "stdout",
     "output_type": "stream",
     "text": [
      "[54.67632029 63.24634377 30.01499625 70.71067812 76.47744766 69.95355602\n",
      " 82.45119769 69.90135907 99.37907224 54.80510925]\n"
     ]
    }
   ],
   "source": [
    "# Q9.2: Calculate the square root of all account balances\n",
    "x= banking_data[:,1]**(1/2)\n",
    "print(x)"
   ]
  },
  {
   "cell_type": "code",
   "execution_count": 11,
   "id": "ffd04e8c",
   "metadata": {},
   "outputs": [
    {
     "name": "stdout",
     "output_type": "stream",
     "text": [
      "[250000. 360000. 810000. 640000. 490000. 722500. 360000. 160000. 250000.\n",
      " 640000.]\n"
     ]
    }
   ],
   "source": [
    "# Q9.3: Calculate the square of all credit scores\n",
    "x= banking_data[:,2]**2\n",
    "print(x)"
   ]
  },
  {
   "cell_type": "code",
   "execution_count": 13,
   "id": "a96ad1ed",
   "metadata": {},
   "outputs": [
    {
     "name": "stdout",
     "output_type": "stream",
     "text": [
      "[2.20264658e+04 4.03428793e+02 2.98095799e+03 4.42413392e+05\n",
      " 7.20048993e+10 8.88611052e+06 4.03428793e+02 2.20264658e+04\n",
      " 1.62754791e+05 3.58491285e+09]\n"
     ]
    }
   ],
   "source": [
    "# Q9.4: Calculate the exponential of all transaction counts\n",
    "x= np.exp(banking_data[:,3])\n",
    "print(x)"
   ]
  },
  {
   "cell_type": "code",
   "execution_count": 14,
   "id": "977127f5",
   "metadata": {},
   "outputs": [
    {
     "name": "stdout",
     "output_type": "stream",
     "text": [
      "[8.00286143 8.29407464 6.80339426 8.51719319 8.67399179 8.49566307\n",
      " 8.82441315 8.49417018 9.1978831  8.00756685]\n"
     ]
    }
   ],
   "source": [
    "# Q9.5: Calculate the natural logarithm of all account balances\n",
    "x= np.log(banking_data[:,1])\n",
    "print(x)"
   ]
  },
  {
   "cell_type": "code",
   "execution_count": 16,
   "id": "56d0fff1",
   "metadata": {},
   "outputs": [
    {
     "name": "stdout",
     "output_type": "stream",
     "text": [
      "[ 2989.5  6989.6  7890.5 12890.5 18739.3 23632.8 30431.  35317.2 45193.4\n",
      " 48197. ]\n"
     ]
    }
   ],
   "source": [
    "# Q10.1: Calculate the cumulative sum of account balances\n",
    "x= np.cumsum(banking_data[:,1])\n",
    "print(x)"
   ]
  },
  {
   "cell_type": "code",
   "execution_count": 17,
   "id": "7a1b90c2",
   "metadata": {},
   "outputs": [
    {
     "name": "stdout",
     "output_type": "stream",
     "text": [
      "[1.000000e+01 6.000000e+01 4.800000e+02 6.240000e+03 1.560000e+05\n",
      " 2.496000e+06 1.497600e+07 1.497600e+08 1.797120e+09 3.953664e+10]\n"
     ]
    }
   ],
   "source": [
    "# Q10.2: Calculate the cumulative product of transaction counts\n",
    "x= np.cumprod(banking_data[:,3])\n",
    "print(x)"
   ]
  },
  {
   "cell_type": "code",
   "execution_count": 19,
   "id": "fcf14344",
   "metadata": {},
   "outputs": [
    {
     "name": "stdout",
     "output_type": "stream",
     "text": [
      "[ 1010.6 -3099.2  4099.1   848.8  -955.3  1904.7 -1912.   4990.  -6872.6]\n"
     ]
    }
   ],
   "source": [
    "# Q10.3: Calculate the difference between consecutive account balances\n",
    "x= np.diff(banking_data[:,1])\n",
    "print(x)"
   ]
  },
  {
   "cell_type": "code",
   "execution_count": 20,
   "id": "7615453d",
   "metadata": {},
   "outputs": [
    {
     "name": "stdout",
     "output_type": "stream",
     "text": [
      "[ 1.01060e+03 -1.04430e+03  4.99950e+02  2.47395e+03 -5.32500e+01\n",
      "  4.74700e+02 -3.65000e+00  1.53900e+03 -9.41300e+02 -6.87260e+03]\n"
     ]
    }
   ],
   "source": [
    "# Q10.4: Calculate the gradient of account balances\n",
    "x= np.gradient(banking_data[:,1])\n",
    "print(x)"
   ]
  },
  {
   "cell_type": "code",
   "execution_count": 24,
   "id": "2d0cedfa",
   "metadata": {},
   "outputs": [
    {
     "name": "stdout",
     "output_type": "stream",
     "text": [
      "[1 3 4 1 1]\n",
      "[ 900.9  2695.96 4491.02 6286.08 8081.14 9876.2 ]\n"
     ]
    }
   ],
   "source": [
    "# Q10.5: Calculate the histogram of account balances with 5 bins\n",
    "x,y= np.histogram(banking_data[:,1],bins=5)\n",
    "print(x)\n",
    "print(y)\n"
   ]
  },
  {
   "cell_type": "code",
   "execution_count": 25,
   "id": "7d82f914",
   "metadata": {},
   "outputs": [
    {
     "name": "stdout",
     "output_type": "stream",
     "text": [
      "[988 547 853 931 865 344]\n"
     ]
    }
   ],
   "source": [
    "# Q11.1: Generate 6 random integers between 1 and 1000\n",
    "x= np.random.randint(1,1001,6)\n",
    "print(x)"
   ]
  },
  {
   "cell_type": "code",
   "execution_count": 26,
   "id": "cca34c81",
   "metadata": {},
   "outputs": [
    {
     "name": "stdout",
     "output_type": "stream",
     "text": [
      "[0.44178394 0.52652538 0.34428513 0.42358246 0.06720569 0.64739983]\n"
     ]
    }
   ],
   "source": [
    "# Q11.2: Generate 6 random floats between 0 and 1\n",
    "r_floa= np.random.random(6)\n",
    "print(r_floa)"
   ]
  },
  {
   "cell_type": "code",
   "execution_count": 28,
   "id": "f30cac87",
   "metadata": {},
   "outputs": [
    {
     "name": "stdout",
     "output_type": "stream",
     "text": [
      "[760.95525101 650.093553   604.10270875 792.35687815 773.58178958\n",
      " 721.56915954]\n"
     ]
    }
   ],
   "source": [
    "# Q11.3: Generate 6 random numbers from normal distribution (mean=700, std=100)\n",
    "no_ = np.random.normal(700,100,6)\n",
    "print(no_)"
   ]
  },
  {
   "cell_type": "code",
   "execution_count": 47,
   "id": "a3133cc5",
   "metadata": {},
   "outputs": [
    {
     "name": "stdout",
     "output_type": "stream",
     "text": [
      "[[ 111.  2989.5  500.    10.     5. ]\n",
      " [ 222.  4000.1  600.     6.    15. ]\n",
      " [ 999.  9876.2  500.    12.     2. ]\n",
      " [ 888.  4893.5  850.    16.    10. ]\n",
      " [ 333.  5000.   800.    13.    18. ]\n",
      " [ 777.  5848.8  700.    25.    20. ]\n",
      " [   0.  4886.2  400.    10.    22. ]\n",
      " [ 666.  3003.6  800.    22.    30. ]\n",
      " [ 555.  6798.2  600.     6.    17. ]\n",
      " [ 444.   900.9  900.     8.     5. ]]\n"
     ]
    }
   ],
   "source": [
    "# Q11.4: Shuffle the banking_data rows randomly\n",
    "x= banking_data.copy()\n",
    "\n",
    "np.random.shuffle(x)\n",
    "np.set_printoptions(suppress=True, precision=2)\n",
    "print(x)\n"
   ]
  },
  {
   "cell_type": "code",
   "execution_count": 54,
   "id": "9c207318",
   "metadata": {},
   "outputs": [
    {
     "name": "stdout",
     "output_type": "stream",
     "text": [
      "[17 66 92 98]\n"
     ]
    }
   ],
   "source": [
    "# Q11.5: Set random seed to 123 and generate 4 random numbers\n",
    "x= np.random.randint(0,100,4)\n",
    "np.random.seed(123)\n",
    "cpy_of_x= x.copy()\n",
    "np.random.shuffle(cpy_of_x)\n",
    "print(cpy_of_x)"
   ]
  },
  {
   "cell_type": "code",
   "execution_count": 55,
   "id": "3b50a78a",
   "metadata": {},
   "outputs": [
    {
     "name": "stdout",
     "output_type": "stream",
     "text": [
      "30333635.0\n"
     ]
    }
   ],
   "source": [
    "# Q12.1: Calculate the dot product of account balance and credit score columns\n",
    "x= np.dot(banking_data[:,1],banking_data[:,2])\n",
    "print(x)"
   ]
  },
  {
   "cell_type": "code",
   "execution_count": 58,
   "id": "2ff01345",
   "metadata": {},
   "outputs": [
    {
     "name": "stdout",
     "output_type": "stream",
     "text": [
      "[-206350.    44400.  -219657.9]\n"
     ]
    }
   ],
   "source": [
    "# Q12.2: Calculate the cross product of first two rows\n",
    "x= np.cross(banking_data[0,:3],banking_data[1,:3])\n",
    "print(x)"
   ]
  },
  {
   "cell_type": "code",
   "execution_count": 59,
   "id": "659c2c34",
   "metadata": {},
   "outputs": [
    {
     "name": "stdout",
     "output_type": "stream",
     "text": [
      "16898.394830278998\n"
     ]
    }
   ],
   "source": [
    "# Q12.3: Calculate the norm (magnitude) of the account balance column\n",
    "x= np.linalg.norm(banking_data[:,1])\n",
    "print(x)"
   ]
  },
  {
   "cell_type": "code",
   "execution_count": 63,
   "id": "13bbdf7f",
   "metadata": {},
   "outputs": [
    {
     "name": "stdout",
     "output_type": "stream",
     "text": [
      "[[1 0]\n",
      " [1 2]]\n",
      "2.0\n"
     ]
    }
   ],
   "source": [
    "# Q12.4: Create a 3x3 matrix and calculate its determinant\n",
    "x= np.random.randint([[5,3],[3,4]])\n",
    "print(x)\n",
    "y= np.linalg.det(x)\n",
    "print(y)"
   ]
  },
  {
   "cell_type": "code",
   "execution_count": 65,
   "id": "c5b9ab9b",
   "metadata": {},
   "outputs": [
    {
     "name": "stdout",
     "output_type": "stream",
     "text": [
      "[[96 80 68]\n",
      " [49 55 67]\n",
      " [ 2 84 39]]\n",
      "[[ 0.02 -0.01 -0.01]\n",
      " [ 0.01 -0.02  0.02]\n",
      " [-0.02  0.04 -0.01]]\n"
     ]
    }
   ],
   "source": [
    "# Q12.5: Calculate the inverse of the 3x3 matrix\n",
    "x= np.random.randint(0,100,(3,3))\n",
    "print(x)\n",
    "y= np.linalg.inv(x)\n",
    "print(y)"
   ]
  },
  {
   "cell_type": "code",
   "execution_count": 66,
   "id": "f62f8992",
   "metadata": {},
   "outputs": [
    {
     "name": "stdout",
     "output_type": "stream",
     "text": [
      "['111.0' '222.0' '444.0' '333.0' '777.0' '888.0' '555.0' '0.0' '999.0'\n",
      " '666.0']\n"
     ]
    }
   ],
   "source": [
    "# Q13.1: Convert all customer IDs to strings\n",
    "import numpy as np\n",
    "banking_data = np.array([\n",
    "    [111.,  2989.5, 500., 10., 5.],\n",
    "    [222.,  4000.1, 600., 6., 15.],\n",
    "    [444.,   900.9, 900., 8., 5.],\n",
    "    [333.,  5000.,  800., 13., 18.],\n",
    "    [777.,  5848.8, 700., 25., 20.],\n",
    "    [888.,  4893.5, 850., 16., 10.],\n",
    "    [555.,  6798.2, 600., 6., 17.],\n",
    "    [0.,    4886.2, 400., 10., 22.],\n",
    "    [999.,  9876.2, 500., 12., 2.],\n",
    "    [666.,  3003.6, 800., 22., 30.]\n",
    "])\n",
    "\n",
    "x= banking_data[:,0].astype(str)\n",
    "print(x)\n"
   ]
  },
  {
   "cell_type": "code",
   "execution_count": 71,
   "id": "d0fc28a0",
   "metadata": {},
   "outputs": [
    {
     "name": "stdout",
     "output_type": "stream",
     "text": [
      "[False False False False False False False False False False]\n"
     ]
    }
   ],
   "source": [
    "# Q13.2: Check if any customer ID contains '100'\n",
    "\n",
    "x= banking_data[:,0].astype(str)\n",
    "y= np.char.find(x,'100')>=0\n",
    "print(y)\n"
   ]
  },
  {
   "cell_type": "code",
   "execution_count": 72,
   "id": "d786bcf1",
   "metadata": {},
   "outputs": [
    {
     "name": "stdout",
     "output_type": "stream",
     "text": [
      "['111.0' '222.0' '444.0' '333.0' '777.0' '888.0' '555.0' '0.0' '999.0'\n",
      " '666.0']\n"
     ]
    }
   ],
   "source": [
    "# Q13.3: Convert all customer IDs to uppercase (if they were strings)\n",
    "\n",
    "x= banking_data[:,0].astype(str)\n",
    "y= np.char.upper(x)\n",
    "print(y)"
   ]
  },
  {
   "cell_type": "code",
   "execution_count": 73,
   "id": "6addf132",
   "metadata": {},
   "outputs": [
    {
     "name": "stdout",
     "output_type": "stream",
     "text": [
      "[5 5 5 5 5 5 5 3 5 5]\n"
     ]
    }
   ],
   "source": [
    "# Q13.4: Count the length of each customer ID string\n",
    "x= banking_data[:,0].astype(str)\n",
    "y= np.char.str_len(x)\n",
    "print(y)"
   ]
  },
  {
   "cell_type": "code",
   "execution_count": 76,
   "id": "ea1be482",
   "metadata": {},
   "outputs": [
    {
     "name": "stdout",
     "output_type": "stream",
     "text": [
      "['111.0' '222.0' '444.0' '333.0' '777.0' '888.0' '555.0' '0.0' '999.0'\n",
      " '666.0']\n"
     ]
    }
   ],
   "source": [
    "# Q13.5: Replace '100' with 'CUST' in customer IDs\n",
    "x= banking_data[:,0].astype(str)\n",
    "y= np.char.replace(x,\"100\",\"CUST\")\n",
    "print(y)"
   ]
  },
  {
   "cell_type": "code",
   "execution_count": 77,
   "id": "eb806dc0",
   "metadata": {},
   "outputs": [
    {
     "name": "stdout",
     "output_type": "stream",
     "text": [
      "[ 60. 180.  60. 216. 240. 120. 204. 264.  24. 360.]\n"
     ]
    }
   ],
   "source": [
    "# Q14.1: Convert years active to months\n",
    "x= banking_data[:,4]\n",
    "y=x*12\n",
    "\n",
    "print(y)"
   ]
  },
  {
   "cell_type": "code",
   "execution_count": 78,
   "id": "4e1b748e",
   "metadata": {},
   "outputs": [
    {
     "name": "stdout",
     "output_type": "stream",
     "text": [
      "14.4\n"
     ]
    }
   ],
   "source": [
    "# Q14.2: Calculate the average years active\n",
    "x= banking_data[:,4]\n",
    "y= np.mean(x)\n",
    "print(y)"
   ]
  },
  {
   "cell_type": "code",
   "execution_count": 80,
   "id": "12066264",
   "metadata": {},
   "outputs": [
    {
     "name": "stdout",
     "output_type": "stream",
     "text": [
      "[[ 222.  4000.1  600.     6.    15. ]\n",
      " [ 333.  5000.   800.    13.    18. ]\n",
      " [ 777.  5848.8  700.    25.    20. ]\n",
      " [ 888.  4893.5  850.    16.    10. ]\n",
      " [ 555.  6798.2  600.     6.    17. ]\n",
      " [   0.  4886.2  400.    10.    22. ]\n",
      " [ 666.  3003.6  800.    22.    30. ]]\n"
     ]
    }
   ],
   "source": [
    "# Q14.3: Find customers who have been active for more than 5 years\n",
    "x= banking_data[banking_data[:,4]>5]\n",
    "print(x)\n"
   ]
  },
  {
   "cell_type": "code",
   "execution_count": 81,
   "id": "6f249c87",
   "metadata": {},
   "outputs": [
    {
     "name": "stdout",
     "output_type": "stream",
     "text": [
      "144.0\n"
     ]
    }
   ],
   "source": [
    "# Q14.4: Calculate the total time all customers have been active (in years)\n",
    "x= np.sum(banking_data[:,4])\n",
    "print(x)"
   ]
  },
  {
   "cell_type": "code",
   "execution_count": 82,
   "id": "c1893e95",
   "metadata": {},
   "outputs": [
    {
     "name": "stdout",
     "output_type": "stream",
     "text": [
      "2.0\n"
     ]
    }
   ],
   "source": [
    "# Q14.5: Find the customer with the shortest time active\n",
    "x= np.min(banking_data[:,4])\n",
    "print(x)"
   ]
  },
  {
   "cell_type": "code",
   "execution_count": null,
   "id": "4229252c",
   "metadata": {},
   "outputs": [
    {
     "name": "stdout",
     "output_type": "stream",
     "text": [
      "[ 3138.97  4200.11   945.95  5250.    6141.24  5138.18  7138.11  5130.51\n",
      " 10370.01  3153.78]\n",
      "['low' 'high' 'low' 'high' 'high' 'high' 'high' 'high' 'high' 'high']\n",
      "['Mid-range' 'Mid-range' 'Premium' 'Premium' 'Premium' 'Premium'\n",
      " 'Mid-range' 'Budget' 'Mid-range' 'Premium']\n"
     ]
    }
   ],
   "source": [
    "# Q15.1: Apply a function to calculate 5% interest on all account balances\n",
    "\n",
    "x= banking_data[:,1]*1.05\n",
    "print(x)\n",
    "\n",
    "# Q15.2: Use np.where to categorize customers by balance ranges\n",
    "category= banking_data[:,1]\n",
    "y= np.where(category<3000,\"low\",\"high\")\n",
    "print(y)\n",
    "\n",
    "# Q15.3: Use np.select to categorize customers by credit score ranges\n",
    "\n",
    "conditions = [\n",
    "    banking_data[:, 2] < 500,\n",
    "    (banking_data[:, 2] >= 500) & (banking_data[:, 2] < 700),\n",
    "    banking_data[:, 2] >= 700\n",
    "]\n",
    "choices = ['Budget', 'Mid-range', 'Premium']\n",
    "price_categories = np.select(conditions, choices, default='Unknown')\n",
    "print(price_categories)\n",
    "\n"
   ]
  },
  {
   "cell_type": "code",
   "execution_count": 91,
   "id": "ed53ad31",
   "metadata": {},
   "outputs": [
    {
     "name": "stdout",
     "output_type": "stream",
     "text": [
      "[ 3288.45  4400.11   990.99  5500.    6433.68  5382.85  7478.02  5374.82\n",
      " 10863.82  3303.96]\n",
      "[ 3615.5  4843.1  2257.9  6164.   7370.8  6657.5  7976.2  5318.2 11389.2\n",
      "  4521.6]\n"
     ]
    }
   ],
   "source": [
    "# Q15.4: Use np.piecewise to apply different interest rates based on balance\n",
    "\n",
    "def low_price(x): return x * 0.9  # 10% discount\n",
    "def mid_price(x): return x * 1.0  # No change\n",
    "def high_price(x): return x * 1.1  # 10% markup\n",
    "\n",
    "discounted_prices = np.piecewise(\n",
    "    banking_data[:, 1],\n",
    "    [banking_data[:, 1] < 20, (banking_data[:, 1] >= 20) & (banking_data[:, 1] < 50), banking_data[:, 1] >= 50],\n",
    "    [low_price, mid_price, high_price]\n",
    ")\n",
    "print(discounted_prices)\n",
    "\n",
    "# Q15.5: Use np.apply_along_axis to calculate the sum of each row\\\\\n",
    "\n",
    "row_sums = np.apply_along_axis(np.sum, 1, banking_data)\n",
    "print(row_sums)"
   ]
  },
  {
   "cell_type": "code",
   "execution_count": 2,
   "id": "434aaf0c",
   "metadata": {},
   "outputs": [
    {
     "name": "stdout",
     "output_type": "stream",
     "text": [
      "[ 111.  2989.5  500.    10.     5.   222.  4000.1  600.     6.    15. ]\n"
     ]
    }
   ],
   "source": [
    "# Q16.1: Concatenate two arrays horizontally using np.hstack()\n",
    "\n",
    "import numpy as np\n",
    "banking_data = np.array([\n",
    "    [111.,  2989.5, 500., 10., 5.],\n",
    "    [222.,  4000.1, 600., 6., 15.],\n",
    "    [444.,   900.9, 900., 8., 5.],\n",
    "    [333.,  5000.,  800., 13., 18.],\n",
    "    [777.,  5848.8, 700., 25., 20.],\n",
    "    [888.,  4893.5, 850., 16., 10.],\n",
    "    [555.,  6798.2, 600., 6., 17.],\n",
    "    [0.,    4886.2, 400., 10., 22.],\n",
    "    [999.,  9876.2, 500., 12., 2.],\n",
    "    [666.,  3003.6, 800., 22., 30.]\n",
    "])\n",
    "\n",
    "x= np.hstack([banking_data[0], banking_data[1]])\n",
    "print(x)"
   ]
  },
  {
   "cell_type": "code",
   "execution_count": 3,
   "id": "f1c1ea74",
   "metadata": {},
   "outputs": [
    {
     "name": "stdout",
     "output_type": "stream",
     "text": [
      "[[ 111.  2989.5  500.    10.     5. ]\n",
      " [ 222.  4000.1  600.     6.    15. ]]\n"
     ]
    }
   ],
   "source": [
    "# Q16.2: Concatenate two arrays vertically using np.vstack()\n",
    "\n",
    "x= np.vstack([banking_data[0],banking_data[1]])\n",
    "print(x)"
   ]
  },
  {
   "cell_type": "code",
   "execution_count": 5,
   "id": "7143dd68",
   "metadata": {},
   "outputs": [
    {
     "name": "stdout",
     "output_type": "stream",
     "text": [
      "[ 111.  2989.5  500.    10.     5.   222.  4000.1  600.     6.    15. ]\n"
     ]
    }
   ],
   "source": [
    "# Q16.3: Concatenate arrays along a specific axis using np.concatenate()\n",
    "\n",
    "x= np.concatenate([banking_data[0],banking_data[1]],axis=0)\n",
    "print(x)"
   ]
  },
  {
   "cell_type": "code",
   "execution_count": 6,
   "id": "bf8ff9b4",
   "metadata": {},
   "outputs": [
    {
     "name": "stdout",
     "output_type": "stream",
     "text": [
      "[[[ 111.   222. ]\n",
      "  [2989.5 4000.1]\n",
      "  [ 500.   600. ]\n",
      "  [  10.     6. ]\n",
      "  [   5.    15. ]]]\n"
     ]
    }
   ],
   "source": [
    "# Q16.4: Stack arrays depth-wise using np.dstack()\n",
    "\n",
    "x= np.dstack([banking_data[0],banking_data[1]])\n",
    "print(x)"
   ]
  },
  {
   "cell_type": "code",
   "execution_count": 7,
   "id": "8fae2429",
   "metadata": {},
   "outputs": [
    {
     "name": "stdout",
     "output_type": "stream",
     "text": [
      "[[ 111.   222. ]\n",
      " [2989.5 4000.1]\n",
      " [ 500.   600. ]\n",
      " [  10.     6. ]\n",
      " [   5.    15. ]]\n"
     ]
    }
   ],
   "source": [
    "# Q16.5: Create a column stack using np.column_stack()\n",
    "\n",
    "x= np.column_stack([banking_data[0],banking_data[1]])\n",
    "print(x)"
   ]
  },
  {
   "cell_type": "code",
   "execution_count": 17,
   "id": "6ca35b0b",
   "metadata": {},
   "outputs": [
    {
     "name": "stdout",
     "output_type": "stream",
     "text": [
      "original array:[1 2 3 4 5 6 7 8 9]\n",
      "part1 [1 2 3]\n",
      "part2 [4 5 6]\n",
      "part3 [7 8 9]\n"
     ]
    }
   ],
   "source": [
    "# Q17.1: Split an array into 3 equal parts using np.split()\n",
    "import numpy as np\n",
    "\n",
    "arr= np.array ([1,2,3,4,5,6,7,8,9])\n",
    "\n",
    "x= np.split(arr,3)\n",
    "\n",
    "print(f\"original array:{arr}\")\n",
    "for i, part in enumerate(x):\n",
    "    print(f\"part{i+1}\",part)"
   ]
  },
  {
   "cell_type": "code",
   "execution_count": 18,
   "id": "6c3acb0a",
   "metadata": {},
   "outputs": [
    {
     "name": "stdout",
     "output_type": "stream",
     "text": [
      "Split at indices [3, 6]:\n",
      "Part 1: [1 2 3]\n",
      "Part 2: [4 5 6]\n",
      "Part 3: [7 8 9]\n"
     ]
    }
   ],
   "source": [
    "# Q17.2: Split an array at specific indices using np.split()\n",
    "\n",
    "split_at_indices = np.split(arr, [3, 6])\n",
    "print(f\"Split at indices [3, 6]:\")\n",
    "for i, part in enumerate(split_at_indices):\n",
    "    print(f\"Part {i+1}: {part}\")"
   ]
  },
  {
   "cell_type": "code",
   "execution_count": 19,
   "id": "814395c6",
   "metadata": {},
   "outputs": [
    {
     "name": "stdout",
     "output_type": "stream",
     "text": [
      "Original 2D array:\n",
      "[[1 2 3]\n",
      " [4 5 6]]\n",
      "Horizontal part 1:\n",
      "[[1]\n",
      " [4]]\n",
      "Horizontal part 2:\n",
      "[[2]\n",
      " [5]]\n",
      "Horizontal part 3:\n",
      "[[3]\n",
      " [6]]\n"
     ]
    }
   ],
   "source": [
    "# Q17.3: Split an array horizontally using np.hsplit()\n",
    "arr_2d = np.array([[1, 2, 3], [4, 5, 6]])\n",
    "hsplit_parts = np.hsplit(arr_2d, 3)\n",
    "print(f\"Original 2D array:\\n{arr_2d}\")\n",
    "for i, part in enumerate(hsplit_parts):\n",
    "    print(f\"Horizontal part {i+1}:\\n{part}\")"
   ]
  },
  {
   "cell_type": "code",
   "execution_count": 20,
   "id": "bb70da2c",
   "metadata": {},
   "outputs": [
    {
     "name": "stdout",
     "output_type": "stream",
     "text": [
      "Vertical parts:\n",
      "Part 1:\n",
      "[[1 2 3]]\n",
      "Part 2:\n",
      "[[4 5 6]]\n"
     ]
    }
   ],
   "source": [
    "# Q17.4: Split an array vertically using np.vsplit()\n",
    "vsplit_parts = np.vsplit(arr_2d, 2)\n",
    "print(f\"Vertical parts:\")\n",
    "for i, part in enumerate(vsplit_parts):\n",
    "    print(f\"Part {i+1}:\\n{part}\")"
   ]
  },
  {
   "cell_type": "code",
   "execution_count": 21,
   "id": "7128224d",
   "metadata": {},
   "outputs": [
    {
     "name": "stdout",
     "output_type": "stream",
     "text": [
      "Split into 4 chunks:\n",
      "Chunk 1: [1 2 3]\n",
      "Chunk 2: [4 5]\n",
      "Chunk 3: [6 7]\n",
      "Chunk 4: [8 9]\n"
     ]
    }
   ],
   "source": [
    "# Q17.5: Split an array into equal chunks using np.array_split()\n",
    "chunks = np.array_split(arr_to_split, 4)\n",
    "print(f\"Split into 4 chunks:\")\n",
    "for i, chunk in enumerate(chunks):\n",
    "    print(f\"Chunk {i+1}: {chunk}\")"
   ]
  },
  {
   "cell_type": "code",
   "execution_count": 23,
   "metadata": {},
   "outputs": [
    {
     "name": "stdout",
     "output_type": "stream",
     "text": [
      "Original: [1 2 3 4 5 6 7 8 9]\n",
      "Repeated 3 times: [1 1 1 2 2 2 3 3 3 4 4 4 5 5 5 6 6 6 7 7 7 8 8 8 9 9 9]\n",
      "Original: [1 2 3 4 5 6 7 8 9]\n",
      "Tiled 2 times: [1 2 3 4 5 6 7 8 9 1 2 3 4 5 6 7 8 9]\n",
      "Original:\n",
      "[[1 2]\n",
      " [3 4]]\n",
      "Tiled (2, 3):\n",
      "[[1 2 1 2 1 2]\n",
      " [3 4 3 4 3 4]\n",
      " [1 2 1 2 1 2]\n",
      " [3 4 3 4 3 4]]\n",
      "Pattern: [1 0]\n",
      "Tiled 5 times: [1 0 1 0 1 0 1 0 1 0]\n"
     ]
    },
    {
     "ename": "ValueError",
     "evalue": "operands could not be broadcast together with shape (9,) (3,)",
     "output_type": "error",
     "traceback": [
      "\u001b[31m---------------------------------------------------------------------------\u001b[39m",
      "\u001b[31mValueError\u001b[39m                                Traceback (most recent call last)",
      "\u001b[36mCell\u001b[39m\u001b[36m \u001b[39m\u001b[32mIn[23]\u001b[39m\u001b[32m, line 28\u001b[39m\n\u001b[32m     26\u001b[39m \u001b[38;5;66;03m# Q18.5: Repeat elements with different counts using np.repeat()\u001b[39;00m\n\u001b[32m     27\u001b[39m repeat_counts = [\u001b[32m2\u001b[39m, \u001b[32m1\u001b[39m, \u001b[32m3\u001b[39m]\n\u001b[32m---> \u001b[39m\u001b[32m28\u001b[39m repeated_variable = \u001b[43mnp\u001b[49m\u001b[43m.\u001b[49m\u001b[43mrepeat\u001b[49m\u001b[43m(\u001b[49m\u001b[43marr1\u001b[49m\u001b[43m,\u001b[49m\u001b[43m \u001b[49m\u001b[43mrepeat_counts\u001b[49m\u001b[43m)\u001b[49m\n\u001b[32m     29\u001b[39m \u001b[38;5;28mprint\u001b[39m(\u001b[33mf\u001b[39m\u001b[33m\"\u001b[39m\u001b[33mOriginal: \u001b[39m\u001b[38;5;132;01m{\u001b[39;00marr1\u001b[38;5;132;01m}\u001b[39;00m\u001b[33m\"\u001b[39m)\n\u001b[32m     30\u001b[39m \u001b[38;5;28mprint\u001b[39m(\u001b[33mf\u001b[39m\u001b[33m\"\u001b[39m\u001b[33mRepeat counts: \u001b[39m\u001b[38;5;132;01m{\u001b[39;00mrepeat_counts\u001b[38;5;132;01m}\u001b[39;00m\u001b[33m\"\u001b[39m)\n",
      "\u001b[36mFile \u001b[39m\u001b[32mc:\\Users\\HP\\AppData\\Local\\Programs\\Python\\Python313\\Lib\\site-packages\\numpy\\_core\\fromnumeric.py:506\u001b[39m, in \u001b[36mrepeat\u001b[39m\u001b[34m(a, repeats, axis)\u001b[39m\n\u001b[32m    462\u001b[39m \u001b[38;5;129m@array_function_dispatch\u001b[39m(_repeat_dispatcher)\n\u001b[32m    463\u001b[39m \u001b[38;5;28;01mdef\u001b[39;00m\u001b[38;5;250m \u001b[39m\u001b[34mrepeat\u001b[39m(a, repeats, axis=\u001b[38;5;28;01mNone\u001b[39;00m):\n\u001b[32m    464\u001b[39m \u001b[38;5;250m    \u001b[39m\u001b[33;03m\"\"\"\u001b[39;00m\n\u001b[32m    465\u001b[39m \u001b[33;03m    Repeat each element of an array after themselves\u001b[39;00m\n\u001b[32m    466\u001b[39m \n\u001b[32m   (...)\u001b[39m\u001b[32m    504\u001b[39m \n\u001b[32m    505\u001b[39m \u001b[33;03m    \"\"\"\u001b[39;00m\n\u001b[32m--> \u001b[39m\u001b[32m506\u001b[39m     \u001b[38;5;28;01mreturn\u001b[39;00m \u001b[43m_wrapfunc\u001b[49m\u001b[43m(\u001b[49m\u001b[43ma\u001b[49m\u001b[43m,\u001b[49m\u001b[43m \u001b[49m\u001b[33;43m'\u001b[39;49m\u001b[33;43mrepeat\u001b[39;49m\u001b[33;43m'\u001b[39;49m\u001b[43m,\u001b[49m\u001b[43m \u001b[49m\u001b[43mrepeats\u001b[49m\u001b[43m,\u001b[49m\u001b[43m \u001b[49m\u001b[43maxis\u001b[49m\u001b[43m=\u001b[49m\u001b[43maxis\u001b[49m\u001b[43m)\u001b[49m\n",
      "\u001b[36mFile \u001b[39m\u001b[32mc:\\Users\\HP\\AppData\\Local\\Programs\\Python\\Python313\\Lib\\site-packages\\numpy\\_core\\fromnumeric.py:57\u001b[39m, in \u001b[36m_wrapfunc\u001b[39m\u001b[34m(obj, method, *args, **kwds)\u001b[39m\n\u001b[32m     54\u001b[39m     \u001b[38;5;28;01mreturn\u001b[39;00m _wrapit(obj, method, *args, **kwds)\n\u001b[32m     56\u001b[39m \u001b[38;5;28;01mtry\u001b[39;00m:\n\u001b[32m---> \u001b[39m\u001b[32m57\u001b[39m     \u001b[38;5;28;01mreturn\u001b[39;00m \u001b[43mbound\u001b[49m\u001b[43m(\u001b[49m\u001b[43m*\u001b[49m\u001b[43margs\u001b[49m\u001b[43m,\u001b[49m\u001b[43m \u001b[49m\u001b[43m*\u001b[49m\u001b[43m*\u001b[49m\u001b[43mkwds\u001b[49m\u001b[43m)\u001b[49m\n\u001b[32m     58\u001b[39m \u001b[38;5;28;01mexcept\u001b[39;00m \u001b[38;5;167;01mTypeError\u001b[39;00m:\n\u001b[32m     59\u001b[39m     \u001b[38;5;66;03m# A TypeError occurs if the object does have such a method in its\u001b[39;00m\n\u001b[32m     60\u001b[39m     \u001b[38;5;66;03m# class, but its signature is not identical to that of NumPy's. This\u001b[39;00m\n\u001b[32m   (...)\u001b[39m\u001b[32m     64\u001b[39m     \u001b[38;5;66;03m# Call _wrapit from within the except clause to ensure a potential\u001b[39;00m\n\u001b[32m     65\u001b[39m     \u001b[38;5;66;03m# exception has a traceback chain.\u001b[39;00m\n\u001b[32m     66\u001b[39m     \u001b[38;5;28;01mreturn\u001b[39;00m _wrapit(obj, method, *args, **kwds)\n",
      "\u001b[31mValueError\u001b[39m: operands could not be broadcast together with shape (9,) (3,)"
     ]
    }
   ],
   "source": [
    "# Q18.1: Repeat each element of an array 3 times using np.repeat()\n",
    "\n",
    "\n",
    "arr1= np.array ([1,2,3,4,5,6,7,8,9])\n",
    "repeat_elements = np.repeat(arr1, 3)\n",
    "print(f\"Original: {arr1}\")\n",
    "print(f\"Repeated 3 times: {repeat_elements}\")\n",
    "\n",
    "# Q18.2: Repeat an entire array 2 times using np.tile()\n",
    "tiled_array = np.tile(arr1, 2)\n",
    "print(f\"Original: {arr1}\")\n",
    "print(f\"Tiled 2 times: {tiled_array}\")\n",
    "\n",
    "# Q18.3: Repeat a 2D array using np.tile()\n",
    "arr_2d_small = np.array([[1, 2], [3, 4]])\n",
    "tiled_2d = np.tile(arr_2d_small, (2, 3))\n",
    "print(f\"Original:\\n{arr_2d_small}\")\n",
    "print(f\"Tiled (2, 3):\\n{tiled_2d}\")\n",
    "\n",
    "# Q18.4: Create a pattern using np.tile()\n",
    "pattern = np.array([1, 0])\n",
    "pattern_tiled = np.tile(pattern, 5)\n",
    "print(f\"Pattern: {pattern}\")\n",
    "print(f\"Tiled 5 times: {pattern_tiled}\")\n",
    "\n",
    "# Q18.5: Repeat elements with different counts using np.repeat()\n",
    "repeat_counts = [2, 1, 3]\n",
    "repeated_variable = np.repeat(arr1, repeat_counts)\n",
    "print(f\"Original: {arr1}\")\n",
    "print(f\"Repeat counts: {repeat_counts}\")\n",
    "print(f\"Result: {repeated_variable}\")"
   ]
  },
  {
   "cell_type": "code",
   "execution_count": 24,
   "id": "646e32d6",
   "metadata": {},
   "outputs": [
    {
     "name": "stdout",
     "output_type": "stream",
     "text": [
      "Array A: [1 2 3]\n",
      "Array B: [1 2 3]\n",
      "Array C: [1 2 4]\n",
      "A equals B: True\n",
      "A equals C: False\n",
      "Array D: [1. 2. 3.]\n",
      "Array E: [1.001 2.001 3.001]\n",
      "Arrays are close: True\n",
      "Array: [1 2 3]\n",
      "Logical AND (1 < x < 3): [False  True False]\n",
      "Array: [1 2 3]\n",
      "Logical OR (x == 1 OR x == 3): [ True False  True]\n",
      "Array: [1 2 3]\n",
      "Logical NOT (x != 2): [ True False  True]\n"
     ]
    }
   ],
   "source": [
    "\n",
    "# Q19.1: Compare two arrays for equality using np.array_equal()\n",
    "\n",
    "arr_a = np.array([1, 2, 3])\n",
    "arr_b = np.array([1, 2, 3])\n",
    "arr_c = np.array([1, 2, 4])\n",
    "print(f\"Array A: {arr_a}\")\n",
    "print(f\"Array B: {arr_b}\")\n",
    "print(f\"Array C: {arr_c}\")\n",
    "print(f\"A equals B: {np.array_equal(arr_a, arr_b)}\")\n",
    "print(f\"A equals C: {np.array_equal(arr_a, arr_c)}\")\n",
    "\n",
    "# Q19.2: Check if arrays are close using np.allclose()\n",
    "arr_d = np.array([1.0, 2.0, 3.0])\n",
    "arr_e = np.array([1.001, 2.001, 3.001])\n",
    "print(f\"Array D: {arr_d}\")\n",
    "print(f\"Array E: {arr_e}\")\n",
    "print(f\"Arrays are close: {np.allclose(arr_d, arr_e, atol=0.01)}\")\n",
    "\n",
    "# Q19.3: Apply logical AND operation between arrays\n",
    "logical_and = np.logical_and(arr_a > 1, arr_a < 3)\n",
    "print(f\"Array: {arr_a}\")\n",
    "print(f\"Logical AND (1 < x < 3): {logical_and}\")\n",
    "\n",
    "# Q19.4: Apply logical OR operation between arrays\n",
    "logical_or = np.logical_or(arr_a == 1, arr_a == 3)\n",
    "print(f\"Array: {arr_a}\")\n",
    "print(f\"Logical OR (x == 1 OR x == 3): {logical_or}\")\n",
    "\n",
    "# Q19.5: Apply logical NOT operation to an array\n",
    "logical_not = np.logical_not(arr_a == 2)\n",
    "print(f\"Array: {arr_a}\")\n",
    "print(f\"Logical NOT (x != 2): {logical_not}\")"
   ]
  },
  {
   "cell_type": "code",
   "execution_count": 25,
   "id": "e60d3f36",
   "metadata": {},
   "outputs": [
    {
     "name": "stdout",
     "output_type": "stream",
     "text": [
      "Original array: [1 2 2 3 3 3 4]\n",
      "Unique elements: [1 2 3 4]\n",
      "Array F: [1 2 3 4]\n",
      "Array G: [3 4 5 6]\n",
      "Intersection: [3 4]\n",
      "Union: [1 2 3 4 5 6]\n",
      "Elements in F but not in G: [1 2]\n",
      "Symmetric difference: [1 2 5 6]\n"
     ]
    }
   ],
   "source": [
    "# Q20.1: Find unique elements in an array using np.unique()\n",
    "arr_with_duplicates = np.array([1, 2, 2, 3, 3, 3, 4])\n",
    "unique_elements = np.unique(arr_with_duplicates)\n",
    "print(f\"Original array: {arr_with_duplicates}\")\n",
    "print(f\"Unique elements: {unique_elements}\")\n",
    "\n",
    "# Q20.2: Find the intersection of two arrays using np.intersect1d()\n",
    "arr_f = np.array([1, 2, 3, 4])\n",
    "arr_g = np.array([3, 4, 5, 6])\n",
    "intersection = np.intersect1d(arr_f, arr_g)\n",
    "print(f\"Array F: {arr_f}\")\n",
    "print(f\"Array G: {arr_g}\")\n",
    "print(f\"Intersection: {intersection}\")\n",
    "\n",
    "# Q20.3: Find the union of two arrays using np.union1d()\n",
    "union = np.union1d(arr_f, arr_g)\n",
    "print(f\"Union: {union}\")\n",
    "\n",
    "# Q20.4: Find elements in first array but not in second using np.setdiff1d()\n",
    "set_difference = np.setdiff1d(arr_f, arr_g)\n",
    "print(f\"Elements in F but not in G: {set_difference}\")\n",
    "\n",
    "# Q20.5: Find the symmetric difference between two arrays using np.setxor1d()\n",
    "symmetric_diff = np.setxor1d(arr_f, arr_g)\n",
    "print(f\"Symmetric difference: {symmetric_diff}\")"
   ]
  },
  {
   "cell_type": "code",
   "execution_count": null,
   "id": "02f8e474",
   "metadata": {},
   "outputs": [],
   "source": []
  },
  {
   "cell_type": "code",
   "execution_count": null,
   "id": "a11d876b",
   "metadata": {},
   "outputs": [],
   "source": []
  },
  {
   "cell_type": "code",
   "execution_count": null,
   "id": "94879f2b",
   "metadata": {},
   "outputs": [],
   "source": []
  },
  {
   "cell_type": "code",
   "execution_count": null,
   "id": "f1c88cf7",
   "metadata": {},
   "outputs": [],
   "source": []
  },
  {
   "cell_type": "code",
   "execution_count": null,
   "id": "00fbee4f",
   "metadata": {},
   "outputs": [],
   "source": []
  },
  {
   "cell_type": "code",
   "execution_count": null,
   "metadata": {},
   "outputs": [],
   "source": []
  },
  {
   "cell_type": "code",
   "execution_count": null,
   "id": "d9bad274",
   "metadata": {},
   "outputs": [],
   "source": []
  },
  {
   "cell_type": "code",
   "execution_count": null,
   "metadata": {},
   "outputs": [],
   "source": []
  },
  {
   "cell_type": "code",
   "execution_count": null,
   "id": "e08c1aaf",
   "metadata": {},
   "outputs": [],
   "source": []
  },
  {
   "cell_type": "code",
   "execution_count": null,
   "metadata": {},
   "outputs": [],
   "source": []
  },
  {
   "cell_type": "code",
   "execution_count": null,
   "id": "ccb2c0d2",
   "metadata": {},
   "outputs": [],
   "source": []
  },
  {
   "cell_type": "code",
   "execution_count": null,
   "id": "cd366e41",
   "metadata": {},
   "outputs": [],
   "source": []
  }
 ],
 "metadata": {
  "kernelspec": {
   "display_name": "Python 3",
   "language": "python",
   "name": "python3"
  },
  "language_info": {
   "codemirror_mode": {
    "name": "ipython",
    "version": 3
   },
   "file_extension": ".py",
   "mimetype": "text/x-python",
   "name": "python",
   "nbconvert_exporter": "python",
   "pygments_lexer": "ipython3",
   "version": "3.13.5"
  }
 },
 "nbformat": 4,
 "nbformat_minor": 5
}
