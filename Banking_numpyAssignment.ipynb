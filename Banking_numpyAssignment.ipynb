{
 "cells": [
  {
   "cell_type": "code",
   "execution_count": 1,
   "id": "ad5ccab3",
   "metadata": {},
   "outputs": [
    {
     "name": "stdout",
     "output_type": "stream",
     "text": [
      "[[1. 0. 0. 0.]\n",
      " [0. 1. 0. 0.]\n",
      " [0. 0. 1. 0.]\n",
      " [0. 0. 0. 1.]]\n"
     ]
    }
   ],
   "source": [
    "# Q1.1: Create a 4x4 identity matrix using np.eye()\n",
    "\n",
    "import numpy as np\n",
    "\n",
    "x= np.eye(4,4)\n",
    "print(x)"
   ]
  },
  {
   "cell_type": "code",
   "execution_count": 4,
   "id": "db3518b8",
   "metadata": {},
   "outputs": [
    {
     "name": "stdout",
     "output_type": "stream",
     "text": [
      "[0. 0. 0. 0. 0. 0. 0. 0.]\n"
     ]
    }
   ],
   "source": [
    "# Q1.2: Create an array of 8 zeros using np.zeros()\n",
    "\n",
    "x= np.zeros(8)\n",
    "print(x)"
   ]
  },
  {
   "cell_type": "code",
   "execution_count": 5,
   "id": "85d4b63f",
   "metadata": {},
   "outputs": [
    {
     "name": "stdout",
     "output_type": "stream",
     "text": [
      "[1. 1. 1. 1. 1. 1.]\n"
     ]
    }
   ],
   "source": [
    "# Q1.3: Create an array of 6 ones using np.ones()\n",
    "\n",
    "x= np.ones(6)\n",
    "print(x)"
   ]
  },
  {
   "cell_type": "code",
   "execution_count": 6,
   "id": "203baf62",
   "metadata": {},
   "outputs": [
    {
     "name": "stdout",
     "output_type": "stream",
     "text": [
      "[ 0  1  2  3  4  5  6  7  8  9 10 11 12 13 14]\n"
     ]
    }
   ],
   "source": [
    "# Q1.4: Create an array with values from 0 to 15 using np.arange()\n",
    "x= np.arange(0,15)\n",
    "print(x)"
   ]
  },
  {
   "cell_type": "code",
   "execution_count": 7,
   "id": "eb412f10",
   "metadata": {},
   "outputs": [
    {
     "name": "stdout",
     "output_type": "stream",
     "text": [
      "[  0.          14.28571429  28.57142857  42.85714286  57.14285714\n",
      "  71.42857143  85.71428571 100.        ]\n"
     ]
    }
   ],
   "source": [
    "# Q1.5: Create an array with 8 evenly spaced values from 0 to 100 using np.linspace()\n",
    "\n",
    "x= np.linspace(0,100,8)\n",
    "print(x)"
   ]
  },
  {
   "cell_type": "code",
   "execution_count": 23,
   "id": "02e0b30f",
   "metadata": {},
   "outputs": [
    {
     "name": "stdout",
     "output_type": "stream",
     "text": [
      "[[ 111.  2989.5  500.    10.     5. ]\n",
      " [ 222.  4000.1  600.     6.    15. ]\n",
      " [ 444.   900.9  900.     8.     5. ]\n",
      " [ 333.  5000.   800.    13.    18. ]\n",
      " [ 777.  5848.8  700.    25.    20. ]\n",
      " [ 888.  4893.5  850.    16.    10. ]\n",
      " [ 555.  6798.2  600.     6.    17. ]\n",
      " [   0.  4886.2  400.    10.    22. ]\n",
      " [ 999.  9876.2  500.    12.     2. ]\n",
      " [ 666.  3003.6  800.    22.    30. ]]\n"
     ]
    }
   ],
   "source": [
    "# The assignment uses banking industry data with 10 rows × 5 columns:\n",
    "\n",
    "# Customer_ID: Unique identifier for each customer\n",
    "# Account_Balance: Customer's account balance in dollars\n",
    "# Credit_Score: Customer's credit score (300-900 range)\n",
    "# Transaction_Count: Number of transactions in the last month\n",
    "# Years_Active: Number of years the customer has been with the bank\n",
    "\n",
    "banking_data= np.array([[111,2989.5,500,10,5],\n",
    "                        [222,4000.1,600,6,15],\n",
    "                        [444,900.9,900,8,5],\n",
    "                        [333,5000,800,13,18],\n",
    "                        [777,5848.8,700,25,20],\n",
    "                        [888,4893.5,850,16,10],\n",
    "                        [555,6798.2,600,6,17],\n",
    "                        [000,4886.2,400,10,22],\n",
    "                        [999,9876.2,500,12,2],\n",
    "                        [666,3003.6,800,22,30]   \n",
    "                        ])\n",
    "\n",
    "\n",
    "np.set_printoptions(suppress=True, precision=2)\n",
    "print(banking_data)"
   ]
  },
  {
   "cell_type": "code",
   "execution_count": 3,
   "id": "996df3cd",
   "metadata": {},
   "outputs": [
    {
     "name": "stdout",
     "output_type": "stream",
     "text": [
      "(10, 5)\n"
     ]
    }
   ],
   "source": [
    "# Q2.1: What is the shape of the banking_data array?\n",
    "import numpy as np\n",
    "banking_data= np.array([[111,2989.5,500,10,5],\n",
    "                        [222,4000.1,600,6,15],\n",
    "                        [444,900.9,900,8,5],\n",
    "                        [333,5000,800,13,18],\n",
    "                        [777,5848.8,700,25,20],\n",
    "                        [888,4893.5,850,16,10],\n",
    "                        [555,6798.2,600,6,17],\n",
    "                        [000,4886.2,400,10,22],\n",
    "                        [999,9876.2,500,12,2],\n",
    "                        [666,3003.6,800,22,30]   \n",
    "                        ])\n",
    "\n",
    "\n",
    "np.set_printoptions(suppress=True, precision=2)\n",
    "\n",
    "print(banking_data.shape)"
   ]
  },
  {
   "cell_type": "code",
   "execution_count": 4,
   "id": "4571afd5",
   "metadata": {},
   "outputs": [
    {
     "data": {
      "text/plain": [
       "dtype('float64')"
      ]
     },
     "execution_count": 4,
     "metadata": {},
     "output_type": "execute_result"
    }
   ],
   "source": [
    "# Q2.2: What is the data type of the banking_data array?\n",
    "banking_data.dtype"
   ]
  },
  {
   "cell_type": "code",
   "execution_count": 6,
   "id": "6920ecf2",
   "metadata": {},
   "outputs": [
    {
     "name": "stdout",
     "output_type": "stream",
     "text": [
      "50\n"
     ]
    }
   ],
   "source": [
    "# Q2.3: What is the size (total number of elements) of the banking_data array?\n",
    "print(banking_data.size)"
   ]
  },
  {
   "cell_type": "code",
   "execution_count": 7,
   "id": "e938cebe",
   "metadata": {},
   "outputs": [
    {
     "name": "stdout",
     "output_type": "stream",
     "text": [
      "2\n"
     ]
    }
   ],
   "source": [
    "# Q2.4: What is the number of dimensions of the banking_data array?\n",
    "print(banking_data.ndim)"
   ]
  },
  {
   "cell_type": "code",
   "execution_count": 8,
   "id": "479cd38e",
   "metadata": {},
   "outputs": [
    {
     "name": "stdout",
     "output_type": "stream",
     "text": [
      "400\n"
     ]
    }
   ],
   "source": [
    "# Q2.5: What is the memory size of the banking_data array in bytes?\n",
    "print(banking_data.nbytes)"
   ]
  },
  {
   "cell_type": "code",
   "execution_count": 10,
   "id": "df0d1c63",
   "metadata": {},
   "outputs": [
    {
     "name": "stdout",
     "output_type": "stream",
     "text": [
      "[ 111.  2989.5  500.    10.     5. ]\n"
     ]
    }
   ],
   "source": [
    "# Q3.1: Extract the first row of banking_data\n",
    "print(banking_data[0,:])"
   ]
  },
  {
   "cell_type": "code",
   "execution_count": 11,
   "id": "f258f00c",
   "metadata": {},
   "outputs": [
    {
     "name": "stdout",
     "output_type": "stream",
     "text": [
      "[ 666.  3003.6  800.    22.    30. ]\n"
     ]
    }
   ],
   "source": [
    "# Q3.2: Extract the last row of banking_data\n",
    "print(banking_data[9,:])"
   ]
  },
  {
   "cell_type": "code",
   "execution_count": 12,
   "id": "2b089c18",
   "metadata": {},
   "outputs": [
    {
     "name": "stdout",
     "output_type": "stream",
     "text": [
      "[2989.5 4000.1  900.9 5000.  5848.8 4893.5 6798.2 4886.2 9876.2 3003.6]\n"
     ]
    }
   ],
   "source": [
    "# Q3.3: Extract the Account_Balance column (column index 1)\n",
    "print(banking_data[:,1])"
   ]
  },
  {
   "cell_type": "code",
   "execution_count": 13,
   "id": "7b9445f1",
   "metadata": {},
   "outputs": [
    {
     "name": "stdout",
     "output_type": "stream",
     "text": [
      "[[ 111.  2989.5  500. ]\n",
      " [ 222.  4000.1  600. ]\n",
      " [ 444.   900.9  900. ]\n",
      " [ 333.  5000.   800. ]]\n"
     ]
    }
   ],
   "source": [
    "# Q3.4: Extract the first 4 rows and first 3 columns\n",
    "print(banking_data[0:4,0:3])"
   ]
  },
  {
   "cell_type": "code",
   "execution_count": null,
   "id": "35e0e704",
   "metadata": {},
   "outputs": [
    {
     "name": "stdout",
     "output_type": "stream",
     "text": [
      "[[ 444.   900.9  900.     8.     5. ]\n",
      " [ 333.  5000.   800.    13.    18. ]\n",
      " [ 777.  5848.8  700.    25.    20. ]\n",
      " [ 888.  4893.5  850.    16.    10. ]\n",
      " [ 555.  6798.2  600.     6.    17. ]]\n"
     ]
    }
   ],
   "source": [
    "# Q3.5: Extract rows 3 to 7 (inclusive)\n",
    "banking_data= np.array([[111,2989.5,500,10,5],\n",
    "                        [222,4000.1,600,6,15],\n",
    "                        [444,900.9,900,8,5],\n",
    "                        [333,5000,800,13,18],\n",
    "                        [777,5848.8,700,25,20],\n",
    "                        [888,4893.5,850,16,10],\n",
    "                        [555,6798.2,600,6,17],\n",
    "                        [000,4886.2,400,10,22],\n",
    "                        [999,9876.2,500,12,2],\n",
    "                        [666,3003.6,800,22,30]   \n",
    "                        ])\n",
    "print(banking_data[2:7,:])"
   ]
  },
  {
   "cell_type": "code",
   "execution_count": 16,
   "metadata": {},
   "outputs": [
    {
     "name": "stdout",
     "output_type": "stream",
     "text": [
      "48196.99999999999\n"
     ]
    }
   ],
   "source": [
    "# Q4.1: Calculate the sum of all account balances\n",
    "x= np.sum(banking_data[:,1])\n",
    "print(x)"
   ]
  },
  {
   "cell_type": "code",
   "execution_count": 18,
   "id": "56d1f883",
   "metadata": {},
   "outputs": [
    {
     "name": "stdout",
     "output_type": "stream",
     "text": [
      "4819.699999999999\n"
     ]
    }
   ],
   "source": [
    "# Q4.2: Calculate the mean account balance\n",
    "x= np.mean(banking_data[:,1])\n",
    "print(x)"
   ]
  },
  {
   "cell_type": "code",
   "execution_count": 20,
   "id": "2a36bdbb",
   "metadata": {},
   "outputs": [
    {
     "name": "stdout",
     "output_type": "stream",
     "text": [
      "2307.8272669331213\n"
     ]
    }
   ],
   "source": [
    "# Q4.3: Calculate the standard deviation of account balances\n",
    "x= np.std(banking_data[:,1])\n",
    "print(x)"
   ]
  },
  {
   "cell_type": "code",
   "execution_count": 22,
   "id": "bbde01b5",
   "metadata": {},
   "outputs": [
    {
     "name": "stdout",
     "output_type": "stream",
     "text": [
      "5326066.694\n"
     ]
    }
   ],
   "source": [
    "# Q4.4: Calculate the variance of account balances\n",
    "x= np.var(banking_data[:,1])\n",
    "print(x)"
   ]
  },
  {
   "cell_type": "code",
   "execution_count": 23,
   "metadata": {},
   "outputs": [
    {
     "name": "stdout",
     "output_type": "stream",
     "text": [
      "4889.85\n"
     ]
    }
   ],
   "source": [
    "# Q4.5: Calculate the median account balance\n",
    "x= np.median(banking_data[:,1])\n",
    "print(x)"
   ]
  },
  {
   "cell_type": "code",
   "execution_count": 24,
   "id": "2b58148c",
   "metadata": {},
   "outputs": [
    {
     "name": "stdout",
     "output_type": "stream",
     "text": [
      "9876.2\n",
      "900.9\n"
     ]
    },
    {
     "data": {
      "text/plain": [
       "(None, None)"
      ]
     },
     "execution_count": 24,
     "metadata": {},
     "output_type": "execute_result"
    }
   ],
   "source": [
    "# Q5.1: Find the minimum and maximum account balances\n",
    "x= np.max(banking_data[:,1])\n",
    "y= np.min(banking_data[:,1])\n",
    "print(x), print(y)"
   ]
  },
  {
   "cell_type": "code",
   "execution_count": 25,
   "id": "42ad3427",
   "metadata": {},
   "outputs": [
    {
     "name": "stdout",
     "output_type": "stream",
     "text": [
      "900.0\n",
      "400.0\n"
     ]
    },
    {
     "data": {
      "text/plain": [
       "(None, None)"
      ]
     },
     "execution_count": 25,
     "metadata": {},
     "output_type": "execute_result"
    }
   ],
   "source": [
    "# Q5.2: Find the minimum and maximum credit scores\n",
    "x= np.max(banking_data[:,2])\n",
    "y= np.min(banking_data[:,2])\n",
    "print(x), print(y)"
   ]
  },
  {
   "cell_type": "code",
   "execution_count": 28,
   "metadata": {},
   "outputs": [
    {
     "name": "stdout",
     "output_type": "stream",
     "text": [
      "3252.725\n",
      "4889.85\n",
      "5636.6\n"
     ]
    },
    {
     "data": {
      "text/plain": [
       "(None, None, None)"
      ]
     },
     "execution_count": 28,
     "metadata": {},
     "output_type": "execute_result"
    }
   ],
   "source": [
    "# Q5.3: Calculate the percentile values for account balances (25th, 50th, 75th)\n",
    "p25= np.percentile(banking_data[:,1],25)\n",
    "p50= np.percentile(banking_data[:,1],50)\n",
    "p75= np.percentile(banking_data[:,1],75)\n",
    "\n",
    "print(p25), print(p50), print(p75)"
   ]
  },
  {
   "cell_type": "code",
   "execution_count": 29,
   "id": "7a2c7bc8",
   "metadata": {},
   "outputs": [
    {
     "name": "stdout",
     "output_type": "stream",
     "text": [
      "-0.46128061366331713\n"
     ]
    }
   ],
   "source": [
    "# Q5.4: Calculate the correlation between account balance and credit score\n",
    "banking_data= np.array([[111,2989.5,500,10,5],\n",
    "                        [222,4000.1,600,6,15],\n",
    "                        [444,900.9,900,8,5],\n",
    "                        [333,5000,800,13,18],\n",
    "                        [777,5848.8,700,25,20],\n",
    "                        [888,4893.5,850,16,10],\n",
    "                        [555,6798.2,600,6,17],\n",
    "                        [000,4886.2,400,10,22],\n",
    "                        [999,9876.2,500,12,2],\n",
    "                        [666,3003.6,800,22,30]   \n",
    "                        ])\n",
    "\n",
    "x= np.corrcoef(banking_data[:,1], banking_data[:,2])[0,1]\n",
    "print(x)"
   ]
  },
  {
   "cell_type": "code",
   "execution_count": 30,
   "id": "12119840",
   "metadata": {},
   "outputs": [
    {
     "name": "stdout",
     "output_type": "stream",
     "text": [
      "-190818.88888888888\n"
     ]
    }
   ],
   "source": [
    "# Q5.5: Calculate the covariance between account balance and credit score\n",
    "x= np.cov(banking_data[:,1],banking_data[:,2])[0,1]\n",
    "print(x)"
   ]
  },
  {
   "cell_type": "code",
   "execution_count": 31,
   "id": "8ad3da83",
   "metadata": {},
   "outputs": [
    {
     "name": "stdout",
     "output_type": "stream",
     "text": [
      "[[ 111.  2989.5  500.    10.     5. ]\n",
      " [ 222.  4000.1  600.     6.    15. ]\n",
      " [ 444.   900.9  900.     8.     5. ]\n",
      " [ 333.  5000.   800.    13.    18. ]\n",
      " [ 777.  5848.8  700.    25.    20. ]\n",
      " [ 888.  4893.5  850.    16.    10. ]\n",
      " [ 555.  6798.2  600.     6.    17. ]\n",
      " [   0.  4886.2  400.    10.    22. ]\n",
      " [ 999.  9876.2  500.    12.     2. ]\n",
      " [ 666.  3003.6  800.    22.    30. ]]\n"
     ]
    }
   ],
   "source": [
    "print(banking_data)"
   ]
  },
  {
   "cell_type": "code",
   "execution_count": 32,
   "id": "79b42b7f",
   "metadata": {},
   "outputs": [
    {
     "name": "stdout",
     "output_type": "stream",
     "text": [
      "Covariance between account balance and credit score: -190818.88888888888\n"
     ]
    }
   ],
   "source": [
    "import numpy as np\n",
    "\n",
    "# Your banking data\n",
    "banking_data = np.array([\n",
    "    [111.,  2989.5, 500., 10., 5.],\n",
    "    [222.,  4000.1, 600., 6., 15.],\n",
    "    [444.,   900.9, 900., 8., 5.],\n",
    "    [333.,  5000.,  800., 13., 18.],\n",
    "    [777.,  5848.8, 700., 25., 20.],\n",
    "    [888.,  4893.5, 850., 16., 10.],\n",
    "    [555.,  6798.2, 600., 6., 17.],\n",
    "    [0.,    4886.2, 400., 10., 22.],\n",
    "    [999.,  9876.2, 500., 12., 2.],\n",
    "    [666.,  3003.6, 800., 22., 30.]\n",
    "])\n",
    "\n",
    "# Calculate covariance between account balance (col 1) and credit score (col 2)\n",
    "covariance = np.cov(banking_data[:, 1], banking_data[:, 2])[0, 1]\n",
    "print(\"Covariance between account balance and credit score:\", covariance)\n"
   ]
  },
  {
   "cell_type": "code",
   "execution_count": 33,
   "id": "d540761c",
   "metadata": {},
   "outputs": [
    {
     "name": "stdout",
     "output_type": "stream",
     "text": [
      "[[ 111.  2989.5  500.    10.     5.   222.  4000.1  600.     6.    15. ]\n",
      " [ 444.   900.9  900.     8.     5.   333.  5000.   800.    13.    18. ]\n",
      " [ 777.  5848.8  700.    25.    20.   888.  4893.5  850.    16.    10. ]\n",
      " [ 555.  6798.2  600.     6.    17.     0.  4886.2  400.    10.    22. ]\n",
      " [ 999.  9876.2  500.    12.     2.   666.  3003.6  800.    22.    30. ]]\n"
     ]
    }
   ],
   "source": [
    "# Q6.1: Reshape the banking_data to 5 rows × 10 columns\n",
    "x= banking_data.reshape(5,10)\n",
    "print(x)"
   ]
  },
  {
   "cell_type": "code",
   "execution_count": 34,
   "id": "a250c4e9",
   "metadata": {},
   "outputs": [
    {
     "name": "stdout",
     "output_type": "stream",
     "text": [
      "[ 111.  2989.5  500.    10.     5.   222.  4000.1  600.     6.    15.\n",
      "  444.   900.9  900.     8.     5.   333.  5000.   800.    13.    18.\n",
      "  777.  5848.8  700.    25.    20.   888.  4893.5  850.    16.    10.\n",
      "  555.  6798.2  600.     6.    17.     0.  4886.2  400.    10.    22.\n",
      "  999.  9876.2  500.    12.     2.   666.  3003.6  800.    22.    30. ]\n"
     ]
    }
   ],
   "source": [
    "# Q6.2: Flatten the banking_data to a 1D array\n",
    "print(banking_data.flatten())"
   ]
  },
  {
   "cell_type": "code",
   "execution_count": 35,
   "id": "1fe1858e",
   "metadata": {},
   "outputs": [
    {
     "data": {
      "text/plain": [
       "array([[ 111. ,  222. ,  444. ,  333. ,  777. ,  888. ,  555. ,    0. ,\n",
       "         999. ,  666. ],\n",
       "       [2989.5, 4000.1,  900.9, 5000. , 5848.8, 4893.5, 6798.2, 4886.2,\n",
       "        9876.2, 3003.6],\n",
       "       [ 500. ,  600. ,  900. ,  800. ,  700. ,  850. ,  600. ,  400. ,\n",
       "         500. ,  800. ],\n",
       "       [  10. ,    6. ,    8. ,   13. ,   25. ,   16. ,    6. ,   10. ,\n",
       "          12. ,   22. ],\n",
       "       [   5. ,   15. ,    5. ,   18. ,   20. ,   10. ,   17. ,   22. ,\n",
       "           2. ,   30. ]])"
      ]
     },
     "execution_count": 35,
     "metadata": {},
     "output_type": "execute_result"
    }
   ],
   "source": [
    "# Q6.3: Transpose the banking_data\n",
    "banking_data.T"
   ]
  },
  {
   "cell_type": "code",
   "execution_count": 40,
   "id": "870d1c30",
   "metadata": {},
   "outputs": [
    {
     "name": "stdout",
     "output_type": "stream",
     "text": [
      "[array([[ 111. , 2989.5,  500. ,   10. ,    5. ],\n",
      "       [ 222. , 4000.1,  600. ,    6. ,   15. ],\n",
      "       [ 444. ,  900.9,  900. ,    8. ,    5. ],\n",
      "       [ 333. , 5000. ,  800. ,   13. ,   18. ],\n",
      "       [ 777. , 5848.8,  700. ,   25. ,   20. ]]), array([[ 888. , 4893.5,  850. ,   16. ,   10. ],\n",
      "       [ 555. , 6798.2,  600. ,    6. ,   17. ],\n",
      "       [   0. , 4886.2,  400. ,   10. ,   22. ],\n",
      "       [ 999. , 9876.2,  500. ,   12. ,    2. ],\n",
      "       [ 666. , 3003.6,  800. ,   22. ,   30. ]])]\n"
     ]
    }
   ],
   "source": [
    "# Q6.4: Split the banking_data into 2 equal parts vertically\n",
    "x= np.vsplit(banking_data,2)\n",
    "print(x)"
   ]
  },
  {
   "cell_type": "code",
   "execution_count": 43,
   "id": "4d672d1a",
   "metadata": {},
   "outputs": [
    {
     "name": "stdout",
     "output_type": "stream",
     "text": [
      "[array([[111.],\n",
      "       [222.],\n",
      "       [444.],\n",
      "       [333.],\n",
      "       [777.],\n",
      "       [888.],\n",
      "       [555.],\n",
      "       [  0.],\n",
      "       [999.],\n",
      "       [666.]]), array([[2989.5],\n",
      "       [4000.1],\n",
      "       [ 900.9],\n",
      "       [5000. ],\n",
      "       [5848.8],\n",
      "       [4893.5],\n",
      "       [6798.2],\n",
      "       [4886.2],\n",
      "       [9876.2],\n",
      "       [3003.6]]), array([[500.],\n",
      "       [600.],\n",
      "       [900.],\n",
      "       [800.],\n",
      "       [700.],\n",
      "       [850.],\n",
      "       [600.],\n",
      "       [400.],\n",
      "       [500.],\n",
      "       [800.]]), array([[10.],\n",
      "       [ 6.],\n",
      "       [ 8.],\n",
      "       [13.],\n",
      "       [25.],\n",
      "       [16.],\n",
      "       [ 6.],\n",
      "       [10.],\n",
      "       [12.],\n",
      "       [22.]]), array([[ 5.],\n",
      "       [15.],\n",
      "       [ 5.],\n",
      "       [18.],\n",
      "       [20.],\n",
      "       [10.],\n",
      "       [17.],\n",
      "       [22.],\n",
      "       [ 2.],\n",
      "       [30.]])]\n"
     ]
    }
   ],
   "source": [
    "# Q6.5: Split the banking_data into 2 equal parts horizontally\n",
    "x= np.hsplit(banking_data,5)\n",
    "print(x)"
   ]
  },
  {
   "cell_type": "code",
   "execution_count": null,
   "id": "98549791",
   "metadata": {},
   "outputs": [
    {
     "name": "stdout",
     "output_type": "stream",
     "text": [
      "[[ 111.  2989.5  500.    10.     5. ]\n",
      " [ 222.  4000.1  600.     6.    15. ]\n",
      " [ 444.   900.9  900.     8.     5. ]\n",
      " [ 333.  5000.   800.    13.    18. ]\n",
      " [ 777.  5848.8  700.    25.    20. ]\n",
      " [ 888.  4893.5  850.    16.    10. ]\n",
      " [ 555.  6798.2  600.     6.    17. ]\n",
      " [   0.  4886.2  400.    10.    22. ]\n",
      " [ 999.  9876.2  500.    12.     2. ]\n",
      " [ 666.  3003.6  800.    22.    30. ]]\n"
     ]
    }
   ],
   "source": [
    "print(banking_data)\n",
    "# Customer_ID: Unique identifier for each customer\n",
    "# Account_Balance: Customer's account balance in dollars\n",
    "# Credit_Score: Customer's credit score (300-900 range)\n",
    "# Transaction_Count: Number of transactions in the last month\n",
    "# Years_Active: Number of years the customer has been with the bank"
   ]
  },
  {
   "cell_type": "code",
   "execution_count": 50,
   "id": "f37ee862",
   "metadata": {},
   "outputs": [
    {
     "name": "stdout",
     "output_type": "stream",
     "text": [
      "[]\n"
     ]
    }
   ],
   "source": [
    "# Q7.1: Find customers with account balance greater than $100,000\n",
    "x=(banking_data[:,1]>100000)\n",
    "print(banking_data[x])"
   ]
  },
  {
   "cell_type": "code",
   "execution_count": 58,
   "id": "1d3a7ce8",
   "metadata": {},
   "outputs": [
    {
     "name": "stdout",
     "output_type": "stream",
     "text": [
      "[444. 888.]\n"
     ]
    }
   ],
   "source": [
    "# Q7.2: Find customers with credit score greater than 800\n",
    "Customer_ID= banking_data[:,0]\n",
    "x= Customer_ID[banking_data[:,2]>800]\n",
    "print(x)"
   ]
  },
  {
   "cell_type": "code",
   "execution_count": 57,
   "id": "0961fbc3",
   "metadata": {},
   "outputs": [
    {
     "name": "stdout",
     "output_type": "stream",
     "text": [
      "Customer IDs with credit score > 800: [444. 888.]\n"
     ]
    }
   ],
   "source": [
    "# Extract customer IDs from column 0\n",
    "Customer_ID = banking_data[:, 0]\n",
    "\n",
    "# Get IDs of customers with credit score > 800 (from column 2)\n",
    "x = Customer_ID[banking_data[:, 2] > 800]\n",
    "print(\"Customer IDs with credit score > 800:\", x)"
   ]
  },
  {
   "cell_type": "code",
   "execution_count": null,
   "id": "041a77a3",
   "metadata": {},
   "outputs": [
    {
     "name": "stdout",
     "output_type": "stream",
     "text": [
      "[[ 111.  2989.5  500.    10.     5. ]\n",
      " [ 222.  4000.1  600.     6.    15. ]\n",
      " [ 444.   900.9  900.     8.     5. ]\n",
      " [ 333.  5000.   800.    13.    18. ]\n",
      " [ 777.  5848.8  700.    25.    20. ]\n",
      " [ 888.  4893.5  850.    16.    10. ]\n",
      " [ 555.  6798.2  600.     6.    17. ]\n",
      " [   0.  4886.2  400.    10.    22. ]\n",
      " [ 999.  9876.2  500.    12.     2. ]\n",
      " [ 666.  3003.6  800.    22.    30. ]]\n"
     ]
    }
   ],
   "source": [
    "\n",
    "print(banking_data)\n",
    "# Customer_ID: Unique identifier for each customer\n",
    "# Account_Balance: Customer's account balance in dollars\n",
    "# Credit_Score: Customer's credit score (300-900 range)\n",
    "# Transaction_Count: Number of transactions in the last month\n",
    "# Years_Active: Number of years the customer has been with the bank\n"
   ]
  },
  {
   "cell_type": "code",
   "execution_count": 65,
   "id": "5b4b35e9",
   "metadata": {},
   "outputs": [
    {
     "name": "stdout",
     "output_type": "stream",
     "text": [
      "[]\n"
     ]
    }
   ],
   "source": [
    "# Q7.3: Find customers with transaction count greater than 50 AND credit score less than 750\n",
    "Transaction_Count=banking_data[:,3]\n",
    "Credit_Score=banking_data[:,2]\n",
    "Customers_ID=banking_data[:,0]\n",
    "x= banking_data[(banking_data[:,3]>50) & (banking_data[:,2]<750)]\n",
    "print(x)"
   ]
  },
  {
   "cell_type": "code",
   "execution_count": 63,
   "id": "61eda5ef",
   "metadata": {},
   "outputs": [
    {
     "name": "stdout",
     "output_type": "stream",
     "text": [
      "0\n"
     ]
    }
   ],
   "source": [
    "# Q7.4: Count how many customers have account balance between $10,000 and $100,000\n",
    "count= np.sum((banking_data[:,1]>10000) & (banking_data[:,1]<100000))\n",
    "print(count)"
   ]
  },
  {
   "cell_type": "code",
   "execution_count": 69,
   "id": "e4f76041",
   "metadata": {},
   "outputs": [
    {
     "name": "stdout",
     "output_type": "stream",
     "text": [
      "2\n"
     ]
    }
   ],
   "source": [
    "# Q7.5: Find the index of the customer with the highest credit score\n",
    "x= np.argmax(banking_data[:,2])\n",
    "print(x)"
   ]
  },
  {
   "cell_type": "code",
   "execution_count": 76,
   "id": "e49255db",
   "metadata": {},
   "outputs": [
    {
     "name": "stdout",
     "output_type": "stream",
     "text": [
      "[[ 444.   900.9  900.     8.     5. ]\n",
      " [ 111.  2989.5  500.    10.     5. ]\n",
      " [ 666.  3003.6  800.    22.    30. ]\n",
      " [ 222.  4000.1  600.     6.    15. ]\n",
      " [   0.  4886.2  400.    10.    22. ]\n",
      " [ 888.  4893.5  850.    16.    10. ]\n",
      " [ 333.  5000.   800.    13.    18. ]\n",
      " [ 777.  5848.8  700.    25.    20. ]\n",
      " [ 555.  6798.2  600.     6.    17. ]\n",
      " [ 999.  9876.2  500.    12.     2. ]]\n"
     ]
    }
   ],
   "source": [
    "# Q8.1: Sort the banking_data by account balance (ascending)\n",
    "\n",
    "x= banking_data[banking_data[:,1].argsort()]\n",
    "print(x)"
   ]
  },
  {
   "cell_type": "code",
   "execution_count": 79,
   "id": "179b20d6",
   "metadata": {},
   "outputs": [
    {
     "name": "stdout",
     "output_type": "stream",
     "text": [
      "[[ 444.   900.9  900.     8.     5. ]\n",
      " [ 888.  4893.5  850.    16.    10. ]\n",
      " [ 333.  5000.   800.    13.    18. ]\n",
      " [ 666.  3003.6  800.    22.    30. ]\n",
      " [ 777.  5848.8  700.    25.    20. ]\n",
      " [ 222.  4000.1  600.     6.    15. ]\n",
      " [ 555.  6798.2  600.     6.    17. ]\n",
      " [ 999.  9876.2  500.    12.     2. ]\n",
      " [ 111.  2989.5  500.    10.     5. ]\n",
      " [   0.  4886.2  400.    10.    22. ]]\n"
     ]
    }
   ],
   "source": [
    "# Q8.2: Sort the banking_data by credit score (descending)\n",
    "\n",
    "x= banking_data[banking_data[:,2].argsort()[::-1]]\n",
    "print(x)"
   ]
  },
  {
   "cell_type": "code",
   "execution_count": 81,
   "metadata": {},
   "outputs": [
    {
     "name": "stdout",
     "output_type": "stream",
     "text": [
      "[array([8, 0, 2, 5, 1, 6, 3, 4, 7, 9])]\n"
     ]
    }
   ],
   "source": [
    "# Q8.3: Find the indices that would sort the array by years active\n",
    "years_active= [banking_data[:,4].argsort()]\n",
    "print(years_active)"
   ]
  },
  {
   "cell_type": "code",
   "execution_count": 90,
   "id": "3cc0c7d3",
   "metadata": {},
   "outputs": [
    {
     "name": "stdout",
     "output_type": "stream",
     "text": [
      "6\n"
     ]
    }
   ],
   "source": [
    "# Q8.4: Find the customer with the second highest account balance\n",
    "\n",
    "x=banking_data[:,1].argsort()[::-1][1]\n",
    "print(x)\n"
   ]
  },
  {
   "cell_type": "code",
   "execution_count": null,
   "id": "c5980f49",
   "metadata": {},
   "outputs": [
    {
     "name": "stdout",
     "output_type": "stream",
     "text": [
      "[[ 111.  2989.5  500.    10.     5. ]\n",
      " [ 222.  4000.1  600.     6.    15. ]\n",
      " [ 444.   900.9  900.     8.     5. ]\n",
      " [ 333.  5000.   800.    13.    18. ]\n",
      " [ 777.  5848.8  700.    25.    20. ]\n",
      " [ 888.  4893.5  850.    16.    10. ]\n",
      " [ 555.  6798.2  600.     6.    17. ]\n",
      " [   0.  4886.2  400.    10.    22. ]\n",
      " [ 999.  9876.2  500.    12.     2. ]\n",
      " [ 666.  3003.6  800.    22.    30. ]]\n"
     ]
    }
   ],
   "source": [
    "print(banking_data)"
   ]
  },
  {
   "cell_type": "code",
   "execution_count": 100,
   "id": "6aa51b11",
   "metadata": {},
   "outputs": [
    {
     "ename": "IndexError",
     "evalue": "only integers, slices (`:`), ellipsis (`...`), numpy.newaxis (`None`) and integer or boolean arrays are valid indices",
     "output_type": "error",
     "traceback": [
      "\u001b[31m---------------------------------------------------------------------------\u001b[39m",
      "\u001b[31mIndexError\u001b[39m                                Traceback (most recent call last)",
      "\u001b[36mCell\u001b[39m\u001b[36m \u001b[39m\u001b[32mIn[100]\u001b[39m\u001b[32m, line 2\u001b[39m\n\u001b[32m      1\u001b[39m \u001b[38;5;66;03m# Q8.5: Find the customer with the lowest transaction count\u001b[39;00m\n\u001b[32m----> \u001b[39m\u001b[32m2\u001b[39m x= \u001b[43mbanking_data\u001b[49m\u001b[43m[\u001b[49m\u001b[43mbanking_data\u001b[49m\u001b[43m[\u001b[49m\u001b[43m:\u001b[49m\u001b[43m,\u001b[49m\u001b[32;43m4\u001b[39;49m\u001b[43m]\u001b[49m\u001b[43m.\u001b[49m\u001b[43mmin\u001b[49m\u001b[43m]\u001b[49m\n\u001b[32m      3\u001b[39m \u001b[38;5;28mprint\u001b[39m(x)\n",
      "\u001b[31mIndexError\u001b[39m: only integers, slices (`:`), ellipsis (`...`), numpy.newaxis (`None`) and integer or boolean arrays are valid indices"
     ]
    }
   ],
   "source": [
    "# Q8.5: Find the customer with the lowest transaction count\n",
    "x= banking_data[banking_data[:,4].min]\n",
    "print(x)"
   ]
  },
  {
   "cell_type": "code",
   "execution_count": null,
   "id": "4bbf76b1",
   "metadata": {},
   "outputs": [],
   "source": []
  },
  {
   "cell_type": "code",
   "execution_count": null,
   "id": "ffd04e8c",
   "metadata": {},
   "outputs": [],
   "source": []
  }
 ],
 "metadata": {
  "kernelspec": {
   "display_name": "Python 3",
   "language": "python",
   "name": "python3"
  },
  "language_info": {
   "codemirror_mode": {
    "name": "ipython",
    "version": 3
   },
   "file_extension": ".py",
   "mimetype": "text/x-python",
   "name": "python",
   "nbconvert_exporter": "python",
   "pygments_lexer": "ipython3",
   "version": "3.13.5"
  }
 },
 "nbformat": 4,
 "nbformat_minor": 5
}
