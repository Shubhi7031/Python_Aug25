{
 "cells": [
  {
   "cell_type": "code",
   "execution_count": 4,
   "id": "44c63967",
   "metadata": {},
   "outputs": [],
   "source": [
    "retail_data= [[    1, 25000,   300,  1200,    10],\n",
    "       [    2, 32000,   450,  1500,    15],\n",
    "       [    3, 28000,   380,  1100,     8],\n",
    "       [    4, 41000,   500,  1600,    20],\n",
    "       [    5, 35000,   420,  1400,    12],\n",
    "       [    6, 27000,   360,  1300,     9],\n",
    "       [    7, 39000,   480,  1700,    18],\n",
    "       [    8, 30000,   400,  1250,    14],\n",
    "       [    9, 45000,   550,  1800,    25],\n",
    "       [   10, 33000,   410,  1450,    11]]"
   ]
  },
  {
   "cell_type": "code",
   "execution_count": 5,
   "id": "1460e45c",
   "metadata": {},
   "outputs": [
    {
     "name": "stdout",
     "output_type": "stream",
     "text": [
      "[[1, 25000, 300, 1200, 10], [2, 32000, 450, 1500, 15], [3, 28000, 380, 1100, 8], [4, 41000, 500, 1600, 20], [5, 35000, 420, 1400, 12], [6, 27000, 360, 1300, 9], [7, 39000, 480, 1700, 18], [8, 30000, 400, 1250, 14], [9, 45000, 550, 1800, 25], [10, 33000, 410, 1450, 11]]\n"
     ]
    }
   ],
   "source": [
    "print(retail_data)"
   ]
  },
  {
   "cell_type": "code",
   "execution_count": 7,
   "id": "b5f1cfad",
   "metadata": {},
   "outputs": [
    {
     "name": "stdout",
     "output_type": "stream",
     "text": [
      "[[    1 25000   300  1200    10]\n",
      " [    2 32000   450  1500    15]\n",
      " [    3 28000   380  1100     8]\n",
      " [    4 41000   500  1600    20]\n",
      " [    5 35000   420  1400    12]\n",
      " [    6 27000   360  1300     9]\n",
      " [    7 39000   480  1700    18]\n",
      " [    8 30000   400  1250    14]\n",
      " [    9 45000   550  1800    25]\n",
      " [   10 33000   410  1450    11]]\n"
     ]
    }
   ],
   "source": [
    "import numpy as np\n",
    "retail_data= np.array([\n",
    "    [1, 25000, 300, 1200, 10],\n",
    "    [2, 32000, 450, 1500, 15],\n",
    "    [3, 28000, 380, 1100, 8],\n",
    "    [4, 41000, 500, 1600, 20],\n",
    "    [5, 35000, 420, 1400, 12],\n",
    "    [6, 27000, 360, 1300, 9],\n",
    "    [7, 39000, 480, 1700, 18],\n",
    "    [8, 30000, 400, 1250, 14],\n",
    "    [9, 45000, 550, 1800, 25],\n",
    "    [10, 33000, 410, 1450, 11]])\n",
    "\n",
    "print(retail_data)"
   ]
  },
  {
   "cell_type": "code",
   "execution_count": 9,
   "id": "4065cb8b",
   "metadata": {},
   "outputs": [
    {
     "data": {
      "text/plain": [
       "np.int64(335000)"
      ]
     },
     "execution_count": 9,
     "metadata": {},
     "output_type": "execute_result"
    }
   ],
   "source": [
    "#[Store ID, Sales, Customers, Inventory, Returns]\n",
    "#1. What is the **total revenue** generated across all stores?\n",
    "\n",
    "retail_data[: ,1].sum()"
   ]
  },
  {
   "cell_type": "code",
   "execution_count": 11,
   "id": "07f9879d",
   "metadata": {},
   "outputs": [
    {
     "data": {
      "text/plain": [
       "np.int64(9)"
      ]
     },
     "execution_count": 11,
     "metadata": {},
     "output_type": "execute_result"
    }
   ],
   "source": [
    "#2. Which store recorded the **highest sales**?\n",
    "\n",
    "retail_data[:,1].argmax()+1"
   ]
  },
  {
   "cell_type": "code",
   "execution_count": 12,
   "id": "614da316",
   "metadata": {},
   "outputs": [
    {
     "data": {
      "text/plain": [
       "np.int64(1)"
      ]
     },
     "execution_count": 12,
     "metadata": {},
     "output_type": "execute_result"
    }
   ],
   "source": [
    "#3. Which store recorded the **lowest sales**?\n",
    "\n",
    "retail_data[:,1].argmin()+1"
   ]
  },
  {
   "cell_type": "code",
   "execution_count": 13,
   "id": "0f7caf11",
   "metadata": {},
   "outputs": [
    {
     "data": {
      "text/plain": [
       "array([2500., 3200., 2800., 4100., 3500., 2700., 3900., 3000., 4500.,\n",
       "       3300.])"
      ]
     },
     "execution_count": 13,
     "metadata": {},
     "output_type": "execute_result"
    }
   ],
   "source": [
    "#4. What is the **average daily sales** per store?\n",
    "\n",
    "retail_data[:,1]/10"
   ]
  },
  {
   "cell_type": "code",
   "execution_count": null,
   "id": "279a8c98",
   "metadata": {},
   "outputs": [],
   "source": []
  },
  {
   "cell_type": "code",
   "execution_count": null,
   "id": "180273bb",
   "metadata": {},
   "outputs": [
    {
     "data": {
      "text/plain": [
       "np.int64(3)"
      ]
     },
     "execution_count": 20,
     "metadata": {},
     "output_type": "execute_result"
    }
   ],
   "source": [
    "#5. How many stores achieved sales **above ₹35,000**?\n",
    "\n",
    "sales= retail_data[:,1]\n",
    "sum(sales>35000)\n"
   ]
  },
  {
   "cell_type": "code",
   "execution_count": null,
   "id": "1f614a66",
   "metadata": {},
   "outputs": [
    {
     "data": {
      "text/plain": [
       "np.int64(550)"
      ]
     },
     "execution_count": 21,
     "metadata": {},
     "output_type": "execute_result"
    }
   ],
   "source": [
    "#6. Which store had the **highest customer footfall**?\n",
    "#   [1, 25000, 300, 1200, 10],\n",
    "#     [2, 32000, 450, 1500, 15],\n",
    "#     [3, 28000, 380, 1100, 8],\n",
    "#     [4, 41000, 500, 1600, 20],\n",
    "#     [5, 35000, 420, 1400, 12],\n",
    "#     [6, 27000, 360, 1300, 9],\n",
    "#     [7, 39000, 480, 1700, 18],\n",
    "#     [8, 30000, 400, 1250, 14],\n",
    "#     [9, 45000, 550, 1800, 25],\n",
    "#     [10, 33000, 410, 1450, 11]\n",
    "##[Store ID, Sales, Customers, Inventory, Returns]\n",
    "\n",
    "retail_data[:,2].max()"
   ]
  },
  {
   "cell_type": "code",
   "execution_count": 22,
   "id": "7a100da3",
   "metadata": {},
   "outputs": [
    {
     "data": {
      "text/plain": [
       "array([30., 45., 38., 50., 42., 36., 48., 40., 55., 41.])"
      ]
     },
     "execution_count": 22,
     "metadata": {},
     "output_type": "execute_result"
    }
   ],
   "source": [
    "#7. What is the **average number of customers** per store?\n",
    "\n",
    "retail_data[:,2]/10"
   ]
  },
  {
   "cell_type": "code",
   "execution_count": 30,
   "id": "2901c551",
   "metadata": {},
   "outputs": [
    {
     "data": {
      "text/plain": [
       "np.int64(3)"
      ]
     },
     "execution_count": 30,
     "metadata": {},
     "output_type": "execute_result"
    }
   ],
   "source": [
    "#8. How many stores have **more than 450 customers**?\n",
    "\n",
    "customers= retail_data[:,2]\n",
    "sum(customers>450)"
   ]
  },
  {
   "cell_type": "code",
   "execution_count": 31,
   "id": "617c80be",
   "metadata": {},
   "outputs": [
    {
     "data": {
      "text/plain": [
       "np.int64(1)"
      ]
     },
     "execution_count": 31,
     "metadata": {},
     "output_type": "execute_result"
    }
   ],
   "source": [
    "#9. Which store has the **lowest customer count**?\n",
    "retail_data[:,2].argmin()+1"
   ]
  },
  {
   "cell_type": "code",
   "execution_count": null,
   "id": "6f06f0d8",
   "metadata": {},
   "outputs": [],
   "source": [
    "#10. Is there any store where **high sales do not correspond to high customers**?\n",
    "#   [1, 25000, 300, 1200, 10],\n",
    "#     [2, 32000, 450, 1500, 15],\n",
    "#     [3, 28000, 380, 1100, 8],\n",
    "#     [4, 41000, 500, 1600, 20],\n",
    "#     [5, 35000, 420, 1400, 12],\n",
    "#     [6, 27000, 360, 1300, 9],\n",
    "#     [7, 39000, 480, 1700, 18],\n",
    "#     [8, 30000, 400, 1250, 14],\n",
    "#     [9, 45000, 550, 1800, 25],\n",
    "#     [10, 33000, 410, 1450, 11]\n",
    "##[Store ID, Sales, Customers, Inventory, Returns]"
   ]
  },
  {
   "cell_type": "code",
   "execution_count": 32,
   "id": "902471c9",
   "metadata": {},
   "outputs": [
    {
     "data": {
      "text/plain": [
       "np.int64(14300)"
      ]
     },
     "execution_count": 32,
     "metadata": {},
     "output_type": "execute_result"
    }
   ],
   "source": [
    "#11. What is the **total inventory** across all stores?\n",
    "retail_data[:,3].sum()"
   ]
  },
  {
   "cell_type": "code",
   "execution_count": 34,
   "id": "ee808dce",
   "metadata": {},
   "outputs": [
    {
     "data": {
      "text/plain": [
       "np.int64(9)"
      ]
     },
     "execution_count": 34,
     "metadata": {},
     "output_type": "execute_result"
    }
   ],
   "source": [
    "#12. Which store has the **highest inventory stock**?\n",
    "retail_data[:,3].argmax()+1"
   ]
  },
  {
   "cell_type": "code",
   "execution_count": 36,
   "id": "339fb185",
   "metadata": {},
   "outputs": [
    {
     "data": {
      "text/plain": [
       "np.int64(3)"
      ]
     },
     "execution_count": 36,
     "metadata": {},
     "output_type": "execute_result"
    }
   ],
   "source": [
    "#13. How many stores have **inventory less than 1300 units**?\n",
    "sum(retail_data[:,3]<1300)"
   ]
  },
  {
   "cell_type": "code",
   "execution_count": 47,
   "id": "4dcc56de",
   "metadata": {},
   "outputs": [
    {
     "data": {
      "text/plain": [
       "np.int64(9)"
      ]
     },
     "execution_count": 47,
     "metadata": {},
     "output_type": "execute_result"
    }
   ],
   "source": [
    "#14. Which store has the **highest return rate** (returns ÷ inventory)?\n",
    "#   [1, 25000, 300, 1200, 10],\n",
    "#     [2, 32000, 450, 1500, 15],\n",
    "#     [3, 28000, 380, 1100, 8],\n",
    "#     [4, 41000, 500, 1600, 20],\n",
    "#     [5, 35000, 420, 1400, 12],\n",
    "#     [6, 27000, 360, 1300, 9],\n",
    "#     [7, 39000, 480, 1700, 18],\n",
    "#     [8, 30000, 400, 1250, 14],\n",
    "#     [9, 45000, 550, 1800, 25],\n",
    "#     [10, 33000, 410, 1450, 11]\n",
    "##[Store ID, Sales, Customers, Inventory, Returns]\n",
    "(retail_data[:,4]/retail_data[:,3]).argmax()+1\n"
   ]
  },
  {
   "cell_type": "code",
   "execution_count": 49,
   "id": "576004ab",
   "metadata": {},
   "outputs": [
    {
     "data": {
      "text/plain": [
       "np.int64(3)"
      ]
     },
     "execution_count": 49,
     "metadata": {},
     "output_type": "execute_result"
    }
   ],
   "source": [
    "#15. Which stores have **returns greater than 15 units**?\n",
    "sum(retail_data[:,4]>15)"
   ]
  },
  {
   "cell_type": "code",
   "execution_count": 5,
   "id": "c178ae6e",
   "metadata": {},
   "outputs": [
    {
     "name": "stdout",
     "output_type": "stream",
     "text": [
      "[[    1 25000   300  1200    10]\n",
      " [    2 32000   450  1500    15]\n",
      " [    3 28000   380  1100     8]\n",
      " [    4 41000   500  1600    20]\n",
      " [    5 35000   420  1400    12]\n",
      " [    6 27000   360  1300     9]\n",
      " [    7 39000   480  1700    18]\n",
      " [    8 30000   400  1250    14]\n",
      " [    9 45000   550  1800    25]\n",
      " [   10 33000   410  1450    11]]\n"
     ]
    },
    {
     "data": {
      "text/plain": [
       "np.int64(0)"
      ]
     },
     "execution_count": 5,
     "metadata": {},
     "output_type": "execute_result"
    }
   ],
   "source": [
    "import numpy as np\n",
    "retail_data= np.array([\n",
    "    [1, 25000, 300, 1200, 10],\n",
    "    [2, 32000, 450, 1500, 15],\n",
    "    [3, 28000, 380, 1100, 8],\n",
    "    [4, 41000, 500, 1600, 20],\n",
    "    [5, 35000, 420, 1400, 12],\n",
    "    [6, 27000, 360, 1300, 9],\n",
    "    [7, 39000, 480, 1700, 18],\n",
    "    [8, 30000, 400, 1250, 14],\n",
    "    [9, 45000, 550, 1800, 25],\n",
    "    [10, 33000, 410, 1450, 11]])\n",
    "\n",
    "print(retail_data)\n",
    "\n",
    "\n",
    "#19. How many stores have **sales per customer above ₹90**?\n",
    "\n",
    "sum((retail_data[:,1]/retail_data[:,2])>90)"
   ]
  },
  {
   "cell_type": "code",
   "execution_count": null,
   "id": "ced61465",
   "metadata": {},
   "outputs": [],
   "source": [
    "\n",
    "##[Store ID, Sales, Customers, Inventory, Returns]\n",
    "\n",
    "#\n"
   ]
  },
  {
   "cell_type": "code",
   "execution_count": null,
   "id": "f4fd3912",
   "metadata": {},
   "outputs": [],
   "source": []
  },
  {
   "cell_type": "code",
   "execution_count": null,
   "id": "946bd7e0",
   "metadata": {},
   "outputs": [],
   "source": []
  },
  {
   "cell_type": "code",
   "execution_count": null,
   "id": "a1cb06f2",
   "metadata": {},
   "outputs": [],
   "source": []
  }
 ],
 "metadata": {
  "kernelspec": {
   "display_name": "Python 3",
   "language": "python",
   "name": "python3"
  },
  "language_info": {
   "codemirror_mode": {
    "name": "ipython",
    "version": 3
   },
   "file_extension": ".py",
   "mimetype": "text/x-python",
   "name": "python",
   "nbconvert_exporter": "python",
   "pygments_lexer": "ipython3",
   "version": "3.13.5"
  }
 },
 "nbformat": 4,
 "nbformat_minor": 5
}
