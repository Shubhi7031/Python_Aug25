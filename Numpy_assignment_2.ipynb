{
 "cells": [
  {
   "cell_type": "code",
   "execution_count": 6,
   "id": "ecfdf78f",
   "metadata": {},
   "outputs": [
    {
     "name": "stdout",
     "output_type": "stream",
     "text": [
      "\n",
      "Q1.1: Create a 3x3 identity matrix using np.eye()\n",
      "[[1. 0. 0.]\n",
      " [0. 1. 0.]\n",
      " [0. 0. 1.]]\n"
     ]
    }
   ],
   "source": [
    "# NumPy Assignment\n",
    "# QUESTION 1: ARRAY CREATION AND MANIPULATION\n",
    "\n",
    "print(\"\\nQ1.1: Create a 3x3 identity matrix using np.eye()\")\n",
    "import numpy as np\n",
    "a= np.eye(3,3)\n",
    "print(a)"
   ]
  },
  {
   "cell_type": "code",
   "execution_count": 8,
   "id": "b778c279",
   "metadata": {},
   "outputs": [
    {
     "name": "stdout",
     "output_type": "stream",
     "text": [
      "\n",
      "Q1.2: Create an array of 10 zeros using np.zeros()\n",
      "[0. 0. 0. 0. 0. 0. 0. 0. 0. 0.]\n"
     ]
    }
   ],
   "source": [
    "print(\"\\nQ1.2: Create an array of 10 zeros using np.zeros()\")\n",
    "\n",
    "a= np.zeros(10)\n",
    "print(a)"
   ]
  },
  {
   "cell_type": "code",
   "execution_count": 9,
   "id": "514708d3",
   "metadata": {},
   "outputs": [
    {
     "name": "stdout",
     "output_type": "stream",
     "text": [
      "\n",
      "Q1.3: Create an array of 5 ones using np.ones()\n",
      "[1. 1. 1. 1. 1.]\n"
     ]
    }
   ],
   "source": [
    "print(\"\\nQ1.3: Create an array of 5 ones using np.ones()\")\n",
    "\n",
    "a= np.ones(5)\n",
    "print(a)"
   ]
  },
  {
   "cell_type": "code",
   "execution_count": 15,
   "id": "8f4dd0f7",
   "metadata": {},
   "outputs": [
    {
     "name": "stdout",
     "output_type": "stream",
     "text": [
      "\n",
      "Q1.4: Create an array with values from 0 to 9 using np.arange()\n",
      "[0 1 2 3 4 5 6 7 8 9]\n"
     ]
    }
   ],
   "source": [
    "print(\"\\nQ1.4: Create an array with values from 0 to 9 using np.arange()\")\n",
    "\n",
    "a= np.arange(0,10)\n",
    "print(a)"
   ]
  },
  {
   "cell_type": "code",
   "execution_count": 18,
   "id": "e85e5f81",
   "metadata": {},
   "outputs": [
    {
     "name": "stdout",
     "output_type": "stream",
     "text": [
      "\n",
      "Q1.5: Create an array with 6 evenly spaced values from 0 to 10 using np.linspace()\n"
     ]
    },
    {
     "data": {
      "text/plain": [
       "array([ 0.,  2.,  4.,  6.,  8., 10.])"
      ]
     },
     "execution_count": 18,
     "metadata": {},
     "output_type": "execute_result"
    }
   ],
   "source": [
    "print(\"\\nQ1.5: Create an array with 6 evenly spaced values from 0 to 10 using np.linspace()\")\n",
    "\n",
    "a= np.linspace(0,10,6)\n",
    "a"
   ]
  },
  {
   "cell_type": "code",
   "execution_count": 19,
   "id": "1a43b7ec",
   "metadata": {},
   "outputs": [
    {
     "name": "stdout",
     "output_type": "stream",
     "text": [
      "\n",
      "Q2.1: What is the shape of the retail_data array?\n",
      "(10, 5)\n"
     ]
    }
   ],
   "source": [
    "# QUESTION 2: ARRAY ATTRIBUTES AND INFORMATION\n",
    "\n",
    "retail_data = np.array([\n",
    "    [1001, 29.99, 45, 4.2, 15],\n",
    "    [1002, 49.99, 32, 4.5, 8],\n",
    "    [1003, 19.99, 78, 3.8, 22],\n",
    "    [1004, 89.99, 12, 4.7, 5],\n",
    "    [1005, 15.99, 95, 4.0, 18],\n",
    "    [1006, 69.99, 28, 4.3, 12],\n",
    "    [1007, 39.99, 56, 3.9, 20],\n",
    "    [1008, 79.99, 18, 4.6, 7],\n",
    "    [1009, 25.99, 67, 4.1, 16],\n",
    "    [1010, 59.99, 34, 4.4, 10]\n",
    "])\n",
    "# Columns: Product_ID, Price, Quantity_Sold, Customer_Rating, Days_in_Stock\n",
    "\n",
    "print(\"\\nQ2.1: What is the shape of the retail_data array?\")\n",
    "\n",
    "print(retail_data.shape)"
   ]
  },
  {
   "cell_type": "code",
   "execution_count": 20,
   "id": "eb1d43b5",
   "metadata": {},
   "outputs": [
    {
     "name": "stdout",
     "output_type": "stream",
     "text": [
      "\n",
      "Q2.2: What is the data type of the retail_data array?\n",
      "float64\n"
     ]
    }
   ],
   "source": [
    "print(\"\\nQ2.2: What is the data type of the retail_data array?\")\n",
    "\n",
    "print(retail_data.dtype)"
   ]
  },
  {
   "cell_type": "code",
   "execution_count": 21,
   "id": "b78a4314",
   "metadata": {},
   "outputs": [
    {
     "name": "stdout",
     "output_type": "stream",
     "text": [
      "\n",
      "Q2.3: What is the size (total number of elements) of the retail_data array?\n",
      "50\n"
     ]
    }
   ],
   "source": [
    "print(\"\\nQ2.3: What is the size (total number of elements) of the retail_data array?\")\n",
    "\n",
    "x= retail_data.size\n",
    "print(x)"
   ]
  },
  {
   "cell_type": "code",
   "execution_count": 22,
   "id": "aabd5ceb",
   "metadata": {},
   "outputs": [
    {
     "name": "stdout",
     "output_type": "stream",
     "text": [
      "\n",
      "Q2.4: What is the number of dimensions of the retail_data array?\n",
      "2\n"
     ]
    }
   ],
   "source": [
    "print(\"\\nQ2.4: What is the number of dimensions of the retail_data array?\")\n",
    "\n",
    "x= retail_data.ndim\n",
    "print(x)"
   ]
  },
  {
   "cell_type": "code",
   "execution_count": 24,
   "id": "66ff7f3f",
   "metadata": {},
   "outputs": [
    {
     "name": "stdout",
     "output_type": "stream",
     "text": [
      "\n",
      "Q2.5: What is the memory size of the retail_data array in bytes?\n",
      "400\n"
     ]
    }
   ],
   "source": [
    "print(\"\\nQ2.5: What is the memory size of the retail_data array in bytes?\")\n",
    "\n",
    "x= retail_data.nbytes\n",
    "print(x)"
   ]
  },
  {
   "cell_type": "code",
   "execution_count": 35,
   "id": "098c0f54",
   "metadata": {},
   "outputs": [
    {
     "name": "stdout",
     "output_type": "stream",
     "text": [
      "[5 8 1 7 1 3 9 6 7 9]\n",
      "10\n",
      "40\n"
     ]
    }
   ],
   "source": [
    "x=np.random.randint(0,10,size=10)\n",
    "print(x)\n",
    "print(x.size)\n",
    "print(x.nbytes)"
   ]
  },
  {
   "cell_type": "code",
   "execution_count": 36,
   "id": "0dab9a9c",
   "metadata": {},
   "outputs": [
    {
     "name": "stdout",
     "output_type": "stream",
     "text": [
      "\n",
      "Q3.1: Extract the first row of retail_data\n",
      "[1001.     29.99   45.      4.2    15.  ]\n"
     ]
    }
   ],
   "source": [
    "# QUESTION 3: INDEXING AND SLICING\n",
    "retail_data = np.array([\n",
    "    [1001, 29.99, 45, 4.2, 15],\n",
    "    [1002, 49.99, 32, 4.5, 8],\n",
    "    [1003, 19.99, 78, 3.8, 22],\n",
    "    [1004, 89.99, 12, 4.7, 5],\n",
    "    [1005, 15.99, 95, 4.0, 18],\n",
    "    [1006, 69.99, 28, 4.3, 12],\n",
    "    [1007, 39.99, 56, 3.9, 20],\n",
    "    [1008, 79.99, 18, 4.6, 7],\n",
    "    [1009, 25.99, 67, 4.1, 16],\n",
    "    [1010, 59.99, 34, 4.4, 10]\n",
    "])\n",
    "# Columns: Product_ID, Price, Quantity_Sold, Customer_Rating, Days_in_Stock\n",
    "\n",
    "print(\"\\nQ3.1: Extract the first row of retail_data\")\n",
    "\n",
    "print(retail_data[0,:])"
   ]
  },
  {
   "cell_type": "code",
   "execution_count": 37,
   "id": "11a7309c",
   "metadata": {},
   "outputs": [
    {
     "name": "stdout",
     "output_type": "stream",
     "text": [
      "\n",
      "Q3.2: Extract the last row of retail_data\n"
     ]
    },
    {
     "data": {
      "text/plain": [
       "array([1010.  ,   59.99,   34.  ,    4.4 ,   10.  ])"
      ]
     },
     "execution_count": 37,
     "metadata": {},
     "output_type": "execute_result"
    }
   ],
   "source": [
    "print(\"\\nQ3.2: Extract the last row of retail_data\")\n",
    "\n",
    "retail_data[9]"
   ]
  },
  {
   "cell_type": "code",
   "execution_count": 38,
   "id": "fbecae3c",
   "metadata": {},
   "outputs": [
    {
     "name": "stdout",
     "output_type": "stream",
     "text": [
      "\n",
      "Q3.3: Extract the Price column (column index 1)\n"
     ]
    },
    {
     "data": {
      "text/plain": [
       "array([29.99, 49.99, 19.99, 89.99, 15.99, 69.99, 39.99, 79.99, 25.99,\n",
       "       59.99])"
      ]
     },
     "execution_count": 38,
     "metadata": {},
     "output_type": "execute_result"
    }
   ],
   "source": [
    "print(\"\\nQ3.3: Extract the Price column (column index 1)\")\n",
    "retail_data[:,1]"
   ]
  },
  {
   "cell_type": "code",
   "execution_count": 39,
   "id": "dbaca5d0",
   "metadata": {},
   "outputs": [
    {
     "name": "stdout",
     "output_type": "stream",
     "text": [
      "\n",
      "Q3.4: Extract the first 3 rows and first 2 columns\n"
     ]
    },
    {
     "data": {
      "text/plain": [
       "array([[1001.  ,   29.99],\n",
       "       [1002.  ,   49.99],\n",
       "       [1003.  ,   19.99]])"
      ]
     },
     "execution_count": 39,
     "metadata": {},
     "output_type": "execute_result"
    }
   ],
   "source": [
    "retail_data = np.array([\n",
    "    [1001, 29.99, 45, 4.2, 15],\n",
    "    [1002, 49.99, 32, 4.5, 8],\n",
    "    [1003, 19.99, 78, 3.8, 22],\n",
    "    [1004, 89.99, 12, 4.7, 5],\n",
    "    [1005, 15.99, 95, 4.0, 18],\n",
    "    [1006, 69.99, 28, 4.3, 12],\n",
    "    [1007, 39.99, 56, 3.9, 20],\n",
    "    [1008, 79.99, 18, 4.6, 7],\n",
    "    [1009, 25.99, 67, 4.1, 16],\n",
    "    [1010, 59.99, 34, 4.4, 10]\n",
    "])\n",
    "# Columns: Product_ID, Price, Quantity_Sold, Customer_Rating, Days_in_Stock\n",
    "print(\"\\nQ3.4: Extract the first 3 rows and first 2 columns\")\n",
    "\n",
    "retail_data[0:3,0:2]"
   ]
  },
  {
   "cell_type": "code",
   "execution_count": 40,
   "id": "2dc9eb12",
   "metadata": {},
   "outputs": [
    {
     "name": "stdout",
     "output_type": "stream",
     "text": [
      "\n",
      "Q3.5: Extract rows 2 to 5 (inclusive)\n"
     ]
    },
    {
     "data": {
      "text/plain": [
       "array([[1003.  ,   19.99,   78.  ,    3.8 ,   22.  ],\n",
       "       [1004.  ,   89.99,   12.  ,    4.7 ,    5.  ],\n",
       "       [1005.  ,   15.99,   95.  ,    4.  ,   18.  ],\n",
       "       [1006.  ,   69.99,   28.  ,    4.3 ,   12.  ]])"
      ]
     },
     "execution_count": 40,
     "metadata": {},
     "output_type": "execute_result"
    }
   ],
   "source": [
    "print(\"\\nQ3.5: Extract rows 2 to 5 (inclusive)\")\n",
    "retail_data[2:6]"
   ]
  },
  {
   "cell_type": "code",
   "execution_count": 42,
   "id": "5ba86d3d",
   "metadata": {},
   "outputs": [
    {
     "name": "stdout",
     "output_type": "stream",
     "text": [
      "\n",
      "Q4.1: Calculate the sum of all prices\n"
     ]
    },
    {
     "data": {
      "text/plain": [
       "np.float64(481.9)"
      ]
     },
     "execution_count": 42,
     "metadata": {},
     "output_type": "execute_result"
    }
   ],
   "source": [
    "# QUESTION 4: MATHEMATICAL OPERATIONS\n",
    "retail_data = np.array([\n",
    "    [1001, 29.99, 45, 4.2, 15],\n",
    "    [1002, 49.99, 32, 4.5, 8],\n",
    "    [1003, 19.99, 78, 3.8, 22],\n",
    "    [1004, 89.99, 12, 4.7, 5],\n",
    "    [1005, 15.99, 95, 4.0, 18],\n",
    "    [1006, 69.99, 28, 4.3, 12],\n",
    "    [1007, 39.99, 56, 3.9, 20],\n",
    "    [1008, 79.99, 18, 4.6, 7],\n",
    "    [1009, 25.99, 67, 4.1, 16],\n",
    "    [1010, 59.99, 34, 4.4, 10]\n",
    "])\n",
    "# Columns: Product_ID, Price, Quantity_Sold, Customer_Rating, Days_in_Stock\n",
    "print(\"\\nQ4.1: Calculate the sum of all prices\")\n",
    "retail_data[:,1].sum()\n"
   ]
  },
  {
   "cell_type": "code",
   "execution_count": 43,
   "id": "82533aa5",
   "metadata": {},
   "outputs": [
    {
     "name": "stdout",
     "output_type": "stream",
     "text": [
      "\n",
      "Q4.2: Calculate the mean price\n"
     ]
    },
    {
     "data": {
      "text/plain": [
       "np.float64(48.19)"
      ]
     },
     "execution_count": 43,
     "metadata": {},
     "output_type": "execute_result"
    }
   ],
   "source": [
    "print(\"\\nQ4.2: Calculate the mean price\")\n",
    "retail_data[:,1].mean()"
   ]
  },
  {
   "cell_type": "code",
   "execution_count": 44,
   "id": "4c17b5ef",
   "metadata": {},
   "outputs": [
    {
     "name": "stdout",
     "output_type": "stream",
     "text": [
      "\n",
      "Q4.3: Calculate the standard deviation of prices\n"
     ]
    },
    {
     "data": {
      "text/plain": [
       "np.float64(24.697368280851297)"
      ]
     },
     "execution_count": 44,
     "metadata": {},
     "output_type": "execute_result"
    }
   ],
   "source": [
    "print(\"\\nQ4.3: Calculate the standard deviation of prices\")\n",
    "retail_data[:,1].std()"
   ]
  },
  {
   "cell_type": "code",
   "execution_count": 46,
   "id": "e213b018",
   "metadata": {},
   "outputs": [
    {
     "name": "stdout",
     "output_type": "stream",
     "text": [
      "\n",
      "Q4.4: Calculate the variance of prices\n"
     ]
    },
    {
     "data": {
      "text/plain": [
       "np.float64(609.9599999999998)"
      ]
     },
     "execution_count": 46,
     "metadata": {},
     "output_type": "execute_result"
    }
   ],
   "source": [
    "print(\"\\nQ4.4: Calculate the variance of prices\")\n",
    "retail_data[:,1].var()"
   ]
  },
  {
   "cell_type": "code",
   "execution_count": 47,
   "id": "a379b78c",
   "metadata": {},
   "outputs": [
    {
     "name": "stdout",
     "output_type": "stream",
     "text": [
      "\n",
      "Q4.5: Calculate the median price\n",
      "44.99\n"
     ]
    }
   ],
   "source": [
    "print(\"\\nQ4.5: Calculate the median price\")\n",
    "x= np.median(retail_data[:,1])\n",
    "print(x)"
   ]
  },
  {
   "cell_type": "code",
   "execution_count": 49,
   "id": "37d7cdb9",
   "metadata": {},
   "outputs": [
    {
     "name": "stdout",
     "output_type": "stream",
     "text": [
      "\n",
      "Q5.1: Find the minimum and maximum prices\n",
      "89.99\n",
      "15.99\n"
     ]
    }
   ],
   "source": [
    "print(\"\\nQ5.1: Find the minimum and maximum prices\")\n",
    "retail_data = np.array([\n",
    "    [1001, 29.99, 45, 4.2, 15],\n",
    "    [1002, 49.99, 32, 4.5, 8],\n",
    "    [1003, 19.99, 78, 3.8, 22],\n",
    "    [1004, 89.99, 12, 4.7, 5],\n",
    "    [1005, 15.99, 95, 4.0, 18],\n",
    "    [1006, 69.99, 28, 4.3, 12],\n",
    "    [1007, 39.99, 56, 3.9, 20],\n",
    "    [1008, 79.99, 18, 4.6, 7],\n",
    "    [1009, 25.99, 67, 4.1, 16],\n",
    "    [1010, 59.99, 34, 4.4, 10]\n",
    "])\n",
    "# Columns: Product_ID, Price, Quantity_Sold, Customer_Rating, Days_in_Stock\n",
    "x= retail_data[:,1].max()\n",
    "print(x)\n",
    "y= retail_data[:,1].min()\n",
    "print(y)"
   ]
  },
  {
   "cell_type": "code",
   "execution_count": 52,
   "id": "24b27f11",
   "metadata": {},
   "outputs": [
    {
     "name": "stdout",
     "output_type": "stream",
     "text": [
      "\n",
      "Q5.2: Find the minimum and maximum quantities sold\n",
      "95.0\n",
      "12.0\n"
     ]
    }
   ],
   "source": [
    "print(\"\\nQ5.2: Find the minimum and maximum quantities sold\")\n",
    "x= retail_data[:,2].max()\n",
    "print(x)\n",
    "y= retail_data[:,2].min()\n",
    "print(y)"
   ]
  },
  {
   "cell_type": "code",
   "execution_count": null,
   "id": "6d11215c",
   "metadata": {},
   "outputs": [],
   "source": [
    "print(\"\\nQ5.3: Calculate the percentile values for prices (25th, 50th, 75th)\")"
   ]
  },
  {
   "cell_type": "code",
   "execution_count": null,
   "id": "5ac779d4",
   "metadata": {},
   "outputs": [],
   "source": []
  },
  {
   "cell_type": "code",
   "execution_count": null,
   "id": "b50b7501",
   "metadata": {},
   "outputs": [],
   "source": []
  },
  {
   "cell_type": "code",
   "execution_count": null,
   "id": "6f8f87db",
   "metadata": {},
   "outputs": [],
   "source": []
  },
  {
   "cell_type": "code",
   "execution_count": null,
   "id": "e1525632",
   "metadata": {},
   "outputs": [],
   "source": []
  },
  {
   "cell_type": "code",
   "execution_count": null,
   "id": "9e8d2a13",
   "metadata": {},
   "outputs": [],
   "source": []
  },
  {
   "cell_type": "code",
   "execution_count": null,
   "id": "e8a5544f",
   "metadata": {},
   "outputs": [],
   "source": []
  },
  {
   "cell_type": "code",
   "execution_count": null,
   "id": "ea4e759e",
   "metadata": {},
   "outputs": [],
   "source": []
  },
  {
   "cell_type": "code",
   "execution_count": null,
   "id": "9e9674b3",
   "metadata": {},
   "outputs": [],
   "source": []
  },
  {
   "cell_type": "code",
   "execution_count": null,
   "id": "6b8c80bc",
   "metadata": {},
   "outputs": [],
   "source": []
  },
  {
   "cell_type": "code",
   "execution_count": null,
   "id": "536c27db",
   "metadata": {},
   "outputs": [],
   "source": []
  }
 ],
 "metadata": {
  "kernelspec": {
   "display_name": "Python 3",
   "language": "python",
   "name": "python3"
  },
  "language_info": {
   "codemirror_mode": {
    "name": "ipython",
    "version": 3
   },
   "file_extension": ".py",
   "mimetype": "text/x-python",
   "name": "python",
   "nbconvert_exporter": "python",
   "pygments_lexer": "ipython3",
   "version": "3.13.5"
  }
 },
 "nbformat": 4,
 "nbformat_minor": 5
}
