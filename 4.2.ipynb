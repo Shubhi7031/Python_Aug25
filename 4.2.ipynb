{
 "cells": [
  {
   "cell_type": "code",
   "execution_count": 3,
   "id": "079a5bf1",
   "metadata": {},
   "outputs": [
    {
     "name": "stdout",
     "output_type": "stream",
     "text": [
      "24\n",
      "16\n",
      "80\n",
      "5.0\n",
      "0\n",
      "160000\n",
      "5\n"
     ]
    }
   ],
   "source": [
    "# Operators\n",
    "\n",
    "# Arithmetic Operators\n",
    "\n",
    "a=20\n",
    "b=4\n",
    "\n",
    "print(a+b)\n",
    "print(a-b)\n",
    "print(a*b)\n",
    "print(a/b)\n",
    "print(a%b)\n",
    "print(a**b)\n",
    "print(a//b)\n"
   ]
  },
  {
   "cell_type": "code",
   "execution_count": 12,
   "id": "41658a55",
   "metadata": {},
   "outputs": [
    {
     "name": "stdout",
     "output_type": "stream",
     "text": [
      "False\n",
      "60\n",
      "20\n"
     ]
    }
   ],
   "source": [
    "# Assignment and comparison operators\n",
    "\n",
    "a=10\n",
    "b=3\n",
    "print(a==b)\n",
    "a+=50\n",
    "print(a)\n",
    "print(a//b)\n",
    "\n"
   ]
  },
  {
   "cell_type": "code",
   "execution_count": 19,
   "id": "e09cf0b8",
   "metadata": {},
   "outputs": [
    {
     "name": "stdout",
     "output_type": "stream",
     "text": [
      "True\n",
      "False\n",
      "True\n",
      "False\n"
     ]
    }
   ],
   "source": [
    "# is, is not, in, not in operators\n",
    "\n",
    "x= (1,4,7,8,9)\n",
    "\n",
    "1 in x\n",
    "print(1 in x)\n",
    "print(10 in x)\n",
    "\n",
    "x= \"data1\"\n",
    "#print(1 in x)\n",
    "print(\"1\" in x)\n",
    "\n",
    "x= { 1: \"shubhi\",\n",
    "     2: \"shubham\",\n",
    "     3: \"shubhaman\",\n",
    "     4: \"shubhamita\"}\n",
    "\n",
    "print(5 in x)\n"
   ]
  },
  {
   "cell_type": "code",
   "execution_count": 22,
   "id": "b715aafc",
   "metadata": {},
   "outputs": [
    {
     "data": {
      "text/plain": [
       "'0b10100'"
      ]
     },
     "execution_count": 22,
     "metadata": {},
     "output_type": "execute_result"
    }
   ],
   "source": [
    "# bitwise opertors\n",
    "\n",
    "bin(20)\n",
    "\n",
    "bin(31)\n",
    "\n",
    "bin(31 and 20)\n"
   ]
  },
  {
   "cell_type": "code",
   "execution_count": null,
   "id": "96a60d88",
   "metadata": {},
   "outputs": [],
   "source": []
  }
 ],
 "metadata": {
  "kernelspec": {
   "display_name": "Python 3",
   "language": "python",
   "name": "python3"
  },
  "language_info": {
   "codemirror_mode": {
    "name": "ipython",
    "version": 3
   },
   "file_extension": ".py",
   "mimetype": "text/x-python",
   "name": "python",
   "nbconvert_exporter": "python",
   "pygments_lexer": "ipython3",
   "version": "3.13.5"
  }
 },
 "nbformat": 4,
 "nbformat_minor": 5
}
