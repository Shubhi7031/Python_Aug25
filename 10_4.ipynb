{
 "cells": [
  {
   "cell_type": "code",
   "execution_count": 1,
   "id": "73f69478",
   "metadata": {},
   "outputs": [
    {
     "name": "stdout",
     "output_type": "stream",
     "text": [
      "66\n"
     ]
    }
   ],
   "source": [
    "l= [3,4,44,5,66,7]\n",
    "#using inbuilt function, find the largest number in the list\n",
    "\n",
    "print(max(l))"
   ]
  },
  {
   "cell_type": "code",
   "execution_count": 2,
   "id": "30525743",
   "metadata": {},
   "outputs": [
    {
     "name": "stdout",
     "output_type": "stream",
     "text": [
      "66\n"
     ]
    }
   ],
   "source": [
    "l= [3,4,44,5,66,7]\n",
    "# without using inbuilt function\n",
    "\n",
    "largest=0\n",
    "for i in l:\n",
    "    if largest<i:\n",
    "        largest=i\n",
    "print(largest)"
   ]
  },
  {
   "cell_type": "code",
   "execution_count": 3,
   "id": "1e32c7d5",
   "metadata": {},
   "outputs": [
    {
     "name": "stdout",
     "output_type": "stream",
     "text": [
      "3\n"
     ]
    }
   ],
   "source": [
    "#using inbuilt function, find the lowest\n",
    "l= [3,4,44,5,66,7]\n",
    "print(min(l))\n"
   ]
  },
  {
   "cell_type": "code",
   "execution_count": 4,
   "id": "041ccafb",
   "metadata": {},
   "outputs": [
    {
     "name": "stdout",
     "output_type": "stream",
     "text": [
      "4\n"
     ]
    }
   ],
   "source": [
    "#without using inbuilt function, find the lowest\n",
    "l= [18,4,44,5,66,7]\n",
    "\n",
    "lowest= l[0]\n",
    "\n",
    "for i in l:\n",
    "    if lowest>i:\n",
    "        lowest= i\n",
    "print(lowest)"
   ]
  },
  {
   "cell_type": "code",
   "execution_count": 5,
   "id": "e2c2727b",
   "metadata": {},
   "outputs": [
    {
     "name": "stdout",
     "output_type": "stream",
     "text": [
      "[7, 4, 44, 5, 66, 18]\n"
     ]
    }
   ],
   "source": [
    "#interchange the first and the last element in a list\n",
    "\n",
    "l= [18,4,44,5,66,7]\n",
    "\n",
    "l[0],l[-1]= l[-1],l[0]\n",
    "print(l)"
   ]
  },
  {
   "cell_type": "code",
   "execution_count": 7,
   "id": "f6506fa4",
   "metadata": {},
   "outputs": [
    {
     "name": "stdout",
     "output_type": "stream",
     "text": [
      "[18, 4, 44, 66, 5, 7]\n"
     ]
    }
   ],
   "source": [
    "# swap the places of 5 and 66 in the list\n",
    "l= [18,4,44,5,66,7]\n",
    "l.index(5),l.index(66)\n",
    "l[3],l[4]= l[4],l[3]\n",
    "print(l)"
   ]
  },
  {
   "cell_type": "code",
   "execution_count": 10,
   "id": "c11cbd9b",
   "metadata": {},
   "outputs": [
    {
     "name": "stdout",
     "output_type": "stream",
     "text": [
      "[7, 66, 5, 44, 4, 18]\n"
     ]
    }
   ],
   "source": [
    "# reverse the list using inbuilt function\n",
    "l= [18,4,44,5,66,7]\n",
    "l.reverse()\n",
    "print(l)"
   ]
  },
  {
   "cell_type": "code",
   "execution_count": null,
   "id": "f9a1052a",
   "metadata": {},
   "outputs": [
    {
     "name": "stdout",
     "output_type": "stream",
     "text": [
      "[7, 66, 5, 44, 4, 18]\n"
     ]
    }
   ],
   "source": [
    "# reverse the list without using inbuilt function\n",
    "l= [18,4,44,5,66,7]\n",
    "\n",
    "l2=[]\n",
    "for i in range(len(l)-1,-1,-1):\n",
    "    l2.append(l[i])\n",
    "\n",
    "print(l2)"
   ]
  },
  {
   "cell_type": "code",
   "execution_count": 13,
   "id": "83d351e7",
   "metadata": {},
   "outputs": [
    {
     "name": "stdout",
     "output_type": "stream",
     "text": [
      "[7, 66, 5, 44, 4, 18]\n"
     ]
    }
   ],
   "source": [
    "# reverse a list without using another list or inbuilt function\n",
    "\n",
    "l= [18,4,44,5,66,7]\n",
    "list_1= l[::-1]\n",
    "print(list_1)"
   ]
  },
  {
   "cell_type": "code",
   "execution_count": 16,
   "id": "01f6fdd5",
   "metadata": {},
   "outputs": [
    {
     "name": "stdout",
     "output_type": "stream",
     "text": [
      "144\n"
     ]
    }
   ],
   "source": [
    "# find the sum of elements in the list using inbuilt function\n",
    "\n",
    "l= [18,4,44,5,66,7]\n",
    "sm= sum(l)\n",
    "print(sm)"
   ]
  },
  {
   "cell_type": "code",
   "execution_count": 17,
   "id": "f15a264c",
   "metadata": {},
   "outputs": [
    {
     "name": "stdout",
     "output_type": "stream",
     "text": [
      "144\n"
     ]
    }
   ],
   "source": [
    "# find the sum of elements in the list without using inbuilt function\n",
    "\n",
    "l= [18,4,44,5,66,7]\n",
    "sm=0\n",
    "for i in l:\n",
    "    sm= sm+i\n",
    "print(sm)"
   ]
  },
  {
   "cell_type": "code",
   "execution_count": 18,
   "id": "11939efe",
   "metadata": {},
   "outputs": [
    {
     "name": "stdout",
     "output_type": "stream",
     "text": [
      "24.0\n"
     ]
    }
   ],
   "source": [
    "# find the average\n",
    "l= [18,4,44,5,66,7]\n",
    "sm= 0\n",
    "for i in l:\n",
    "    sm=sm+i\n",
    "av= sm/len(l)\n",
    "print(av)\n"
   ]
  },
  {
   "cell_type": "code",
   "execution_count": 22,
   "id": "522e6c32",
   "metadata": {},
   "outputs": [
    {
     "name": "stdout",
     "output_type": "stream",
     "text": [
      "18,4,44,66,"
     ]
    }
   ],
   "source": [
    "# find the even numbers in the list\n",
    "l= [18,4,44,5,66,7]\n",
    "\n",
    "for i in l:\n",
    "    if i%2==0:\n",
    "        print(i,end=\",\")"
   ]
  },
  {
   "cell_type": "code",
   "execution_count": 24,
   "id": "21f27add",
   "metadata": {},
   "outputs": [
    {
     "name": "stdout",
     "output_type": "stream",
     "text": [
      "5,7,"
     ]
    }
   ],
   "source": [
    "# find the odd numbers in the list\n",
    "l= [18,4,44,5,66,7]\n",
    "\n",
    "for i in l:\n",
    "    if i%2!=0:\n",
    "        print(i, end=\",\")"
   ]
  },
  {
   "cell_type": "code",
   "execution_count": 31,
   "id": "5c9c95e1",
   "metadata": {},
   "outputs": [
    {
     "name": "stdout",
     "output_type": "stream",
     "text": [
      "[2, 3, 4, 5, 6, 7, 9]\n"
     ]
    }
   ],
   "source": [
    "# remove duplicates from the list\n",
    "\n",
    "l= [2,4,5,6,7,3,4,5,9]\n",
    "a= []\n",
    "\n",
    "for i in l:\n",
    "    if i not in a:\n",
    "        a.append(i)\n",
    "\n",
    "a.sort()\n",
    "print(a)"
   ]
  },
  {
   "cell_type": "code",
   "execution_count": 32,
   "id": "c56df1c9",
   "metadata": {},
   "outputs": [
    {
     "name": "stdout",
     "output_type": "stream",
     "text": [
      "[4, 16, 25, 36, 49, 9, 16, 25, 81]\n"
     ]
    }
   ],
   "source": [
    "# sqaures of element in a list\n",
    "l= [2,4,5,6,7,3,4,5,9]\n",
    "a=[]\n",
    "\n",
    "for i in l:\n",
    "    a.append(i*i)\n",
    "\n",
    "print(a)"
   ]
  },
  {
   "cell_type": "code",
   "execution_count": 35,
   "id": "bc32d4b2",
   "metadata": {},
   "outputs": [
    {
     "data": {
      "text/plain": [
       "[4, 16, 25, 36, 49, 9, 16, 25, 81]"
      ]
     },
     "execution_count": 35,
     "metadata": {},
     "output_type": "execute_result"
    }
   ],
   "source": [
    "l= [2,4,5,6,7,3,4,5,9]\n",
    "[i*i for i in l]"
   ]
  },
  {
   "cell_type": "code",
   "execution_count": 36,
   "id": "2a894cab",
   "metadata": {},
   "outputs": [
    {
     "name": "stdout",
     "output_type": "stream",
     "text": [
      "[2, 4, 6, 4]\n"
     ]
    }
   ],
   "source": [
    "# filter even numbers\n",
    "l= [2,4,5,6,7,3,4,5,9]\n",
    "new_list=[]\n",
    "for i in l:\n",
    "    if i%2==0:\n",
    "        new_list.append(i)\n",
    "\n",
    "print(new_list)\n"
   ]
  },
  {
   "cell_type": "code",
   "execution_count": 37,
   "id": "026e8864",
   "metadata": {},
   "outputs": [
    {
     "data": {
      "text/plain": [
       "[2, 4, 6, 4]"
      ]
     },
     "execution_count": 37,
     "metadata": {},
     "output_type": "execute_result"
    }
   ],
   "source": [
    "l= [2,4,5,6,7,3,4,5,9]\n",
    "\n",
    "[i for i in l if i%2==0]"
   ]
  },
  {
   "cell_type": "code",
   "execution_count": 40,
   "id": "de3fd512",
   "metadata": {},
   "outputs": [
    {
     "name": "stdout",
     "output_type": "stream",
     "text": [
      "['HELLO', 'WORLD']\n"
     ]
    }
   ],
   "source": [
    "a= [\"hello\",\"world\"]\n",
    "list_1=[]\n",
    "for i in a:\n",
    "    list_1.append(i.upper())\n",
    "    \n",
    "print(list_1)"
   ]
  },
  {
   "cell_type": "code",
   "execution_count": 41,
   "id": "7a19c956",
   "metadata": {},
   "outputs": [
    {
     "data": {
      "text/plain": [
       "['HELLO', 'WORLD']"
      ]
     },
     "execution_count": 41,
     "metadata": {},
     "output_type": "execute_result"
    }
   ],
   "source": [
    "a= [\"hello\",\"world\"]\n",
    "\n",
    "[i.upper() for i in a]"
   ]
  },
  {
   "cell_type": "code",
   "execution_count": null,
   "id": "85836eee",
   "metadata": {},
   "outputs": [],
   "source": []
  },
  {
   "cell_type": "code",
   "execution_count": null,
   "id": "6acdbeb2",
   "metadata": {},
   "outputs": [],
   "source": []
  },
  {
   "cell_type": "code",
   "execution_count": null,
   "id": "d5a1fb0b",
   "metadata": {},
   "outputs": [],
   "source": []
  },
  {
   "cell_type": "code",
   "execution_count": null,
   "id": "3e476f6c",
   "metadata": {},
   "outputs": [],
   "source": []
  },
  {
   "cell_type": "code",
   "execution_count": null,
   "metadata": {},
   "outputs": [],
   "source": []
  },
  {
   "cell_type": "code",
   "execution_count": null,
   "id": "41673444",
   "metadata": {},
   "outputs": [],
   "source": []
  },
  {
   "cell_type": "code",
   "execution_count": null,
   "metadata": {},
   "outputs": [],
   "source": []
  },
  {
   "cell_type": "code",
   "execution_count": null,
   "id": "e3546027",
   "metadata": {},
   "outputs": [],
   "source": []
  },
  {
   "cell_type": "code",
   "execution_count": null,
   "id": "e246a8c0",
   "metadata": {},
   "outputs": [],
   "source": []
  },
  {
   "cell_type": "code",
   "execution_count": null,
   "id": "3d359986",
   "metadata": {},
   "outputs": [],
   "source": []
  },
  {
   "cell_type": "code",
   "execution_count": null,
   "id": "07224aab",
   "metadata": {},
   "outputs": [],
   "source": []
  }
 ],
 "metadata": {
  "kernelspec": {
   "display_name": "Python 3",
   "language": "python",
   "name": "python3"
  },
  "language_info": {
   "codemirror_mode": {
    "name": "ipython",
    "version": 3
   },
   "file_extension": ".py",
   "mimetype": "text/x-python",
   "name": "python",
   "nbconvert_exporter": "python",
   "pygments_lexer": "ipython3",
   "version": "3.13.5"
  }
 },
 "nbformat": 4,
 "nbformat_minor": 5
}
