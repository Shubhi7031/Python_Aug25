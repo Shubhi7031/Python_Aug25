{
 "cells": [
  {
   "cell_type": "code",
   "execution_count": 1,
   "id": "43087051",
   "metadata": {},
   "outputs": [
    {
     "data": {
      "text/plain": [
       "24"
      ]
     },
     "execution_count": 1,
     "metadata": {},
     "output_type": "execute_result"
    }
   ],
   "source": [
    "# Q1\n",
    "\n",
    "def sum_all(*args):\n",
    "    total= 0\n",
    "    total= total+ sum(args)\n",
    "    return total\n",
    "\n",
    "sum_all(2,4,8,10)"
   ]
  },
  {
   "cell_type": "code",
   "execution_count": 2,
   "id": "5cd7fa7d",
   "metadata": {},
   "outputs": [
    {
     "data": {
      "text/plain": [
       "'hello good morning'"
      ]
     },
     "execution_count": 2,
     "metadata": {},
     "output_type": "execute_result"
    }
   ],
   "source": [
    "# Q2\n",
    "\n",
    "def concat_strings(*args):\n",
    "    result= \" \". join(args)\n",
    "    return result\n",
    "\n",
    "concat_strings(\"hello\", \"good\", \"morning\")"
   ]
  },
  {
   "cell_type": "code",
   "execution_count": 3,
   "id": "5c4ae36a",
   "metadata": {},
   "outputs": [
    {
     "data": {
      "text/plain": [
       "12"
      ]
     },
     "execution_count": 3,
     "metadata": {},
     "output_type": "execute_result"
    }
   ],
   "source": [
    "#Q3\n",
    "\n",
    "def max_number(*args):\n",
    "    result= max(args)\n",
    "    return result\n",
    "\n",
    "max_number(12,2,3,4,10)"
   ]
  },
  {
   "cell_type": "code",
   "execution_count": 10,
   "id": "64c07e90",
   "metadata": {},
   "outputs": [
    {
     "data": {
      "text/plain": [
       "[1, 2, 3, 2, 3, 4]"
      ]
     },
     "execution_count": 10,
     "metadata": {},
     "output_type": "execute_result"
    }
   ],
   "source": [
    "#Q4\n",
    "\n",
    "def unpack_args(*args):\n",
    "    \n",
    "    return [item for sublist in args for item in sublist]\n",
    "    \n",
    "unpack_args([1,2,3],[2,3,4])\n"
   ]
  },
  {
   "cell_type": "code",
   "execution_count": 18,
   "id": "69f0661a",
   "metadata": {},
   "outputs": [
    {
     "data": {
      "text/plain": [
       "(40, 30, 20, 10)"
      ]
     },
     "execution_count": 18,
     "metadata": {},
     "output_type": "execute_result"
    }
   ],
   "source": [
    "#Q5\n",
    "\n",
    "\n",
    "def reverse_args(*args):\n",
    "\n",
    "    return args[::-1]\n",
    "\n",
    "reverse_args(10,20,30,40)"
   ]
  },
  {
   "cell_type": "code",
   "execution_count": null,
   "id": "2f07f51a",
   "metadata": {},
   "outputs": [],
   "source": []
  },
  {
   "cell_type": "code",
   "execution_count": null,
   "id": "75f292f1",
   "metadata": {},
   "outputs": [],
   "source": []
  },
  {
   "cell_type": "code",
   "execution_count": null,
   "id": "97658c59",
   "metadata": {},
   "outputs": [],
   "source": []
  },
  {
   "cell_type": "code",
   "execution_count": null,
   "id": "a2f9db0e",
   "metadata": {},
   "outputs": [],
   "source": []
  },
  {
   "cell_type": "code",
   "execution_count": null,
   "id": "df2643a9",
   "metadata": {},
   "outputs": [],
   "source": []
  }
 ],
 "metadata": {
  "kernelspec": {
   "display_name": "Python 3",
   "language": "python",
   "name": "python3"
  },
  "language_info": {
   "codemirror_mode": {
    "name": "ipython",
    "version": 3
   },
   "file_extension": ".py",
   "mimetype": "text/x-python",
   "name": "python",
   "nbconvert_exporter": "python",
   "pygments_lexer": "ipython3",
   "version": "3.13.5"
  }
 },
 "nbformat": 4,
 "nbformat_minor": 5
}
