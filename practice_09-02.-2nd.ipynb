{
 "cells": [
  {
   "cell_type": "code",
   "execution_count": 3,
   "id": "b5ac6db2",
   "metadata": {},
   "outputs": [
    {
     "name": "stdout",
     "output_type": "stream",
     "text": [
      "key: name, values: John Doe\n",
      "key: sex, values: male\n",
      "key: age, values: 32\n",
      "key: married, values: True\n"
     ]
    }
   ],
   "source": [
    "# Looping over a dicitionary\n",
    "\n",
    "person= {\n",
    "\n",
    "    \"name\": \"John Doe\",\n",
    "    \"sex\": \"male\",\n",
    "    \"age\": 32,\n",
    "    \"married\": True\n",
    "}\n",
    "\n",
    "for key in person:\n",
    "    print(f\"key: {key}, values: {person[key]}\")"
   ]
  },
  {
   "cell_type": "code",
   "execution_count": 8,
   "id": "e8daac78",
   "metadata": {},
   "outputs": [
    {
     "name": "stdout",
     "output_type": "stream",
     "text": [
      "John Doe\n",
      "male\n",
      "32\n",
      "True\n"
     ]
    }
   ],
   "source": [
    "person= {\n",
    "\n",
    "    \"name\": \"John Doe\",\n",
    "    \"sex\": \"male\",\n",
    "    \"age\": 32,\n",
    "    \"married\": True\n",
    "}\n",
    "\n",
    "for value in person.values():\n",
    "    print(value)"
   ]
  },
  {
   "cell_type": "code",
   "execution_count": 5,
   "id": "e7ec02f0",
   "metadata": {},
   "outputs": [
    {
     "name": "stdout",
     "output_type": "stream",
     "text": [
      "name\n",
      "sex\n",
      "age\n",
      "married\n"
     ]
    }
   ],
   "source": [
    "for key in person:\n",
    "    print(key)"
   ]
  },
  {
   "cell_type": "code",
   "execution_count": 10,
   "id": "3028d266",
   "metadata": {},
   "outputs": [
    {
     "name": "stdout",
     "output_type": "stream",
     "text": [
      "('name', 'John Doe')\n",
      "('sex', 'male')\n",
      "('age', 32)\n",
      "('married', True)\n"
     ]
    }
   ],
   "source": [
    "for key_value_pair in person.items():\n",
    "    print(key_value_pair)"
   ]
  },
  {
   "cell_type": "code",
   "execution_count": 11,
   "id": "2e5e63b4",
   "metadata": {},
   "outputs": [
    {
     "name": "stdout",
     "output_type": "stream",
     "text": [
      "key:name, value:John Doe\n",
      "key:sex, value:male\n",
      "key:age, value:32\n",
      "key:married, value:True\n"
     ]
    }
   ],
   "source": [
    "for key,value in person.items():\n",
    "    print(f\"key:{key}, value:{value}\")"
   ]
  },
  {
   "cell_type": "code",
   "execution_count": 18,
   "id": "8afaa3c6",
   "metadata": {},
   "outputs": [
    {
     "name": "stdout",
     "output_type": "stream",
     "text": [
      "0,1,2,3,4,5,6,7,8,9,10,11,12,13,14,15,16,17,18,19,"
     ]
    }
   ],
   "source": [
    "#Range\n",
    "\n",
    "for i in range(20):\n",
    "    print(i,end=\",\")"
   ]
  },
  {
   "cell_type": "code",
   "execution_count": 19,
   "id": "e3a2641a",
   "metadata": {},
   "outputs": [
    {
     "name": "stdout",
     "output_type": "stream",
     "text": [
      "0,1,2,3,4,5,6,7,8,9,"
     ]
    }
   ],
   "source": [
    "for i in range(0,10):\n",
    "    print(i,end=\",\")"
   ]
  },
  {
   "cell_type": "code",
   "execution_count": 20,
   "id": "18eef20f",
   "metadata": {},
   "outputs": [
    {
     "name": "stdout",
     "output_type": "stream",
     "text": [
      "0,5,10,15,20,25,30,35,40,45,"
     ]
    }
   ],
   "source": [
    "for i in range(0,50,5):\n",
    "    print(i, end=\",\")"
   ]
  },
  {
   "cell_type": "code",
   "execution_count": 25,
   "id": "1e825ea5",
   "metadata": {},
   "outputs": [
    {
     "name": "stdout",
     "output_type": "stream",
     "text": [
      "the value at index 0 is mon\n",
      "the value at index 1 is tue\n",
      "the value at index 2 is wed\n",
      "the value at index 3 is thu\n",
      "the value at index 4 is fri\n",
      "the value at index 5 is sat\n",
      "the value at index 6 is sun\n"
     ]
    }
   ],
   "source": [
    "a_list= [\"mon\",\"tue\",\"wed\",\"thu\",\"fri\",\"sat\",\"sun\"]\n",
    "\n",
    "for i in range(len(a_list)):\n",
    "    print(f\"the value at index {i} is {a_list[i]}\")"
   ]
  },
  {
   "cell_type": "code",
   "execution_count": 26,
   "id": "4a9236a8",
   "metadata": {},
   "outputs": [
    {
     "name": "stdout",
     "output_type": "stream",
     "text": [
      "the value at index 0 is mon\n",
      "the value at index 1 is tue\n",
      "the value at index 2 is wed\n",
      "the value at index 3 is thu\n",
      "the value at index 4 is fri\n",
      "the value at index 5 is sat\n",
      "the value at index 6 is sun\n"
     ]
    }
   ],
   "source": [
    "for i, val in enumerate(a_list):\n",
    "    print(f\"the value at index {i} is {val}\")"
   ]
  },
  {
   "cell_type": "code",
   "execution_count": 28,
   "id": "94ebb28d",
   "metadata": {},
   "outputs": [
    {
     "name": "stdout",
     "output_type": "stream",
     "text": [
      "index:0 and value:mon\n",
      "index:1 and value:tue\n",
      "index:2 and value:wed\n",
      "index:3 and value:thu\n",
      "index:4 and value:fri\n",
      "index:5 and value:sat\n",
      "index:6 and value:sun\n"
     ]
    }
   ],
   "source": [
    "i=0\n",
    "for val in a_list:\n",
    "    print(f\"index:{i} and value:{val}\")\n",
    "    i=i+1"
   ]
  },
  {
   "cell_type": "code",
   "execution_count": 29,
   "id": "8a4b860c",
   "metadata": {},
   "outputs": [
    {
     "name": "stdout",
     "output_type": "stream",
     "text": [
      " index:0 and color:red\n",
      " index:1 and color:green\n",
      " index:2 and color:blue\n"
     ]
    }
   ],
   "source": [
    "\"\"\"Given a list colors = ['red', 'green', 'blue'],\n",
    "print each color with its index using enumerate()\"\"\"\n",
    "\n",
    "colors = ['red', 'green', 'blue']\n",
    "\n",
    "for i, val in enumerate(colors):\n",
    "    print(f\" index:{i} and color:{val}\")\n"
   ]
  },
  {
   "cell_type": "code",
   "execution_count": 33,
   "id": "452d0d45",
   "metadata": {},
   "outputs": [
    {
     "name": "stdout",
     "output_type": "stream",
     "text": [
      " index:0 and value:10\n",
      " index:2 and value:30\n",
      " index:4 and value:50\n"
     ]
    }
   ],
   "source": [
    "#Given nums = [10, 20, 30, 40, 50],\n",
    "# print values that are at even indices (0, 2, 4...).\n",
    "\n",
    "nums = [10, 20, 30, 40, 50]\n",
    "\n",
    "for i, val in enumerate(nums):\n",
    "    if i % 2==0:\n",
    "        print(f\" index:{i} and value:{val}\")\n",
    "    else:\n",
    "        continue\n",
    "   \n"
   ]
  },
  {
   "cell_type": "code",
   "execution_count": 39,
   "id": "5e2df1af",
   "metadata": {},
   "outputs": [
    {
     "name": "stdout",
     "output_type": "stream",
     "text": [
      "index:4 and value:50\n",
      "index:3 and value:40\n",
      "index:2 and value:30\n",
      "index:1 and value:20\n",
      "index:0 and value:10\n"
     ]
    }
   ],
   "source": [
    "#Reverse order\n",
    "\n",
    "for i in range(len(nums)-1,-1,-1):\n",
    "    print(f\"index:{i} and value:{nums[i]}\")"
   ]
  },
  {
   "cell_type": "code",
   "execution_count": 41,
   "id": "36a75c03",
   "metadata": {},
   "outputs": [
    {
     "name": "stdout",
     "output_type": "stream",
     "text": [
      "today is Monday\n",
      "today is Tuesday\n",
      "today is Wednesday\n",
      "I don't work beyond wednesday\n"
     ]
    }
   ],
   "source": [
    "weekdays = ['Monday', 'Tuesday', 'Wednesday', 'Thursday', 'Friday']\n",
    "\n",
    "for day in weekdays:\n",
    "    print(f\"today is {day}\")\n",
    "    if day== \"Wednesday\":\n",
    "        print(\"I don't work beyond wednesday\")\n",
    "        break"
   ]
  },
  {
   "cell_type": "code",
   "execution_count": 43,
   "id": "48a09c96",
   "metadata": {},
   "outputs": [
    {
     "name": "stdout",
     "output_type": "stream",
     "text": [
      "today is Monday\n",
      "today is Tuesday\n",
      "I dont work on wednesday\n",
      "today is Thursday\n",
      "today is Friday\n"
     ]
    }
   ],
   "source": [
    "for day in weekdays:\n",
    "    if day== \"Wednesday\":\n",
    "        print(\"I dont work on wednesday\")\n",
    "        continue\n",
    "    print(f\"today is {day}\")"
   ]
  },
  {
   "cell_type": "code",
   "execution_count": 45,
   "id": "2f0b93e5",
   "metadata": {},
   "outputs": [
    {
     "name": "stdout",
     "output_type": "stream",
     "text": [
      "4.666666666666667\n"
     ]
    }
   ],
   "source": [
    "# Functions\n",
    "\n",
    "# avg of 3 numbers\n",
    "\n",
    "def avg(a,b,c):\n",
    "    average= (a+b+c)/3\n",
    "    return average\n",
    "\n",
    "x= avg(2,4,8)\n",
    "print(x)\n",
    "\n"
   ]
  },
  {
   "cell_type": "code",
   "execution_count": 46,
   "id": "4a0c7863",
   "metadata": {},
   "outputs": [
    {
     "name": "stdout",
     "output_type": "stream",
     "text": [
      "12\n"
     ]
    }
   ],
   "source": [
    "# default parameters\n",
    "\n",
    "def cal_prod(a,b=4):\n",
    "    return a*b\n",
    "\n",
    "prod= cal_prod(3)\n",
    "print(prod)"
   ]
  },
  {
   "cell_type": "code",
   "execution_count": null,
   "id": "8413ff93",
   "metadata": {},
   "outputs": [],
   "source": []
  },
  {
   "cell_type": "code",
   "execution_count": null,
   "id": "8b0912f1",
   "metadata": {},
   "outputs": [],
   "source": []
  },
  {
   "cell_type": "code",
   "execution_count": null,
   "id": "77443c22",
   "metadata": {},
   "outputs": [],
   "source": []
  },
  {
   "cell_type": "code",
   "execution_count": null,
   "id": "40f9f63c",
   "metadata": {},
   "outputs": [],
   "source": []
  },
  {
   "cell_type": "code",
   "execution_count": null,
   "id": "692aa799",
   "metadata": {},
   "outputs": [],
   "source": []
  },
  {
   "cell_type": "code",
   "execution_count": null,
   "id": "f1c02ad8",
   "metadata": {},
   "outputs": [],
   "source": []
  },
  {
   "cell_type": "code",
   "execution_count": null,
   "id": "f6af1383",
   "metadata": {},
   "outputs": [],
   "source": []
  },
  {
   "cell_type": "code",
   "execution_count": null,
   "id": "6219ba6d",
   "metadata": {},
   "outputs": [],
   "source": []
  },
  {
   "cell_type": "code",
   "execution_count": null,
   "id": "cd08a5a7",
   "metadata": {},
   "outputs": [],
   "source": []
  },
  {
   "cell_type": "code",
   "execution_count": null,
   "id": "904cd5bb",
   "metadata": {},
   "outputs": [],
   "source": []
  },
  {
   "cell_type": "code",
   "execution_count": null,
   "id": "c6b35598",
   "metadata": {},
   "outputs": [],
   "source": []
  },
  {
   "cell_type": "code",
   "execution_count": null,
   "id": "bf8ec6c4",
   "metadata": {},
   "outputs": [],
   "source": []
  }
 ],
 "metadata": {
  "kernelspec": {
   "display_name": "Python 3",
   "language": "python",
   "name": "python3"
  },
  "language_info": {
   "codemirror_mode": {
    "name": "ipython",
    "version": 3
   },
   "file_extension": ".py",
   "mimetype": "text/x-python",
   "name": "python",
   "nbconvert_exporter": "python",
   "pygments_lexer": "ipython3",
   "version": "3.13.5"
  }
 },
 "nbformat": 4,
 "nbformat_minor": 5
}
