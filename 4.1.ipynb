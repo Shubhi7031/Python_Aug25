{
 "cells": [
  {
   "cell_type": "code",
   "execution_count": 5,
   "id": "d957ca7a",
   "metadata": {},
   "outputs": [
    {
     "name": "stdout",
     "output_type": "stream",
     "text": [
      "{1, 2, 3, 4, 5, 6, 7, 8, 9, 10}\n",
      "{1, 2, 3, 4, 5, 6, 7, 8, 9, 10}\n",
      "{2, 3, 4}\n",
      "{2, 3, 4}\n"
     ]
    }
   ],
   "source": [
    "x={2,4,6,8,10,3,6}\n",
    "y={1,2,3,5,7,9,4}\n",
    "\n",
    "u = x.union(y)\n",
    "print(u)\n",
    "\n",
    "u1 = y.union(x)\n",
    "print(u)\n",
    "\n",
    "i= x.intersection(y)\n",
    "print(i)\n",
    "\n",
    "i1= y.intersection(x)\n",
    "print(i1)"
   ]
  },
  {
   "cell_type": "code",
   "execution_count": 12,
   "id": "d2662ab7",
   "metadata": {},
   "outputs": [
    {
     "name": "stdout",
     "output_type": "stream",
     "text": [
      "['a', 'b', 'c', 'd', 'e']\n",
      "['a', 'c', 'd', 'f', 'g']\n",
      "{'b', 'e'}\n",
      "['f', 'g']\n"
     ]
    }
   ],
   "source": [
    "x= {\"a\",\"b\",\"c\",\"d\",\"e\"}\n",
    "y= {\"a\",\"c\",\"d\",\"f\",\"g\"}\n",
    "\n",
    "print(sorted(x))\n",
    "print(sorted(y))\n",
    "\n",
    "diff= x.difference(y)\n",
    "print(diff)\n",
    "\n",
    "diff2= y.difference(x)\n",
    "print(sorted(diff2))"
   ]
  },
  {
   "cell_type": "code",
   "execution_count": 23,
   "id": "c19c7e5e",
   "metadata": {},
   "outputs": [
    {
     "name": "stdout",
     "output_type": "stream",
     "text": [
      "{'b', 'e'}\n",
      "{'f', 'a', 'g', 'c', 'd'}\n",
      "{'b', 'e', 'a', 'd', 'c'}\n",
      "{'f', 'g'}\n"
     ]
    }
   ],
   "source": [
    "x= {\"a\",\"b\",\"c\",\"d\",\"e\"}\n",
    "y= {\"a\",\"c\",\"d\",\"f\",\"g\"}\n",
    "\n",
    "\n",
    "(x.difference_update(y))\n",
    "\n",
    "print(x)\n",
    "print(y)\n",
    "\n",
    "x= {\"a\",\"b\",\"c\",\"d\",\"e\"}\n",
    "y= {\"a\",\"c\",\"d\",\"f\",\"g\"}\n",
    "\n",
    "y.difference_update(x)\n",
    "print(x)\n",
    "print(y)"
   ]
  },
  {
   "cell_type": "code",
   "execution_count": 26,
   "id": "43e5891b",
   "metadata": {},
   "outputs": [
    {
     "name": "stdout",
     "output_type": "stream",
     "text": [
      "{'b', 'e', 'f', 'g', 'a', 'c', 'd'}\n",
      "{'d', 'c', 'a'}\n",
      "{'b', 'e', 'f', 'g'}\n"
     ]
    }
   ],
   "source": [
    "# Symmetric difference \n",
    "\n",
    "x= {\"a\",\"b\",\"c\",\"d\",\"e\"}\n",
    "y= {\"a\",\"c\",\"d\",\"f\",\"g\"}\n",
    "\n",
    "a= x.union(y)\n",
    "b= x.intersection(y)\n",
    "\n",
    "print(a)\n",
    "print(b)\n",
    "\n",
    "z= x.symmetric_difference(y)\n",
    "print(z)"
   ]
  },
  {
   "cell_type": "code",
   "execution_count": 34,
   "id": "c7bebe1f",
   "metadata": {},
   "outputs": [
    {
     "name": "stdout",
     "output_type": "stream",
     "text": [
      "True\n",
      "True\n",
      "False\n",
      "False\n"
     ]
    }
   ],
   "source": [
    "x={1,2,3,4,5}\n",
    "y={1,2}\n",
    "\n",
    "l=x.issuperset(y)\n",
    "\n",
    "z=y.issubset(x)\n",
    "\n",
    "print(l)\n",
    "print(z)\n",
    "\n",
    "\n",
    "k=x.issubset(y)\n",
    "print(k)\n",
    "\n",
    "m= x.isdisjoint(y)\n",
    "print(m)"
   ]
  },
  {
   "cell_type": "code",
   "execution_count": null,
   "id": "aba83012",
   "metadata": {},
   "outputs": [],
   "source": []
  },
  {
   "cell_type": "code",
   "execution_count": null,
   "id": "ffbf1030",
   "metadata": {},
   "outputs": [],
   "source": []
  }
 ],
 "metadata": {
  "kernelspec": {
   "display_name": "Python 3",
   "language": "python",
   "name": "python3"
  },
  "language_info": {
   "codemirror_mode": {
    "name": "ipython",
    "version": 3
   },
   "file_extension": ".py",
   "mimetype": "text/x-python",
   "name": "python",
   "nbconvert_exporter": "python",
   "pygments_lexer": "ipython3",
   "version": "3.13.5"
  }
 },
 "nbformat": 4,
 "nbformat_minor": 5
}
