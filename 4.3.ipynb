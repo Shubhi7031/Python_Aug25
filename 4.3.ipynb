{
 "cells": [
  {
   "cell_type": "code",
   "execution_count": 4,
   "id": "b6daecb5",
   "metadata": {},
   "outputs": [
    {
     "name": "stdout",
     "output_type": "stream",
     "text": [
      "c is greater\n"
     ]
    }
   ],
   "source": [
    "# WAP to find the greatest of three numbers\n",
    "\n",
    "a= 5\n",
    "b= 15\n",
    "c= 20\n",
    "\n",
    "if a>=b and a>=c:\n",
    "    print(\" a is greater\")\n",
    "\n",
    "elif (b>=a and b>=c):\n",
    "    print(\"b is greater\")\n",
    "\n",
    "else :\n",
    "    print(\"c is greater\")"
   ]
  },
  {
   "cell_type": "code",
   "execution_count": 1,
   "id": "da31fec5",
   "metadata": {},
   "outputs": [
    {
     "name": "stdout",
     "output_type": "stream",
     "text": [
      "b is greater\n"
     ]
    }
   ],
   "source": [
    "# WAP to find the greater number and take a input from user.\n",
    "\n",
    "a= int(input(\"enter 1st number:\"))\n",
    "b= int(input(\"enter 2nd number:\"))\n",
    "c= int(input(\"enter 3rd number:\"))\n",
    "\n",
    "if a>=b and a>=c:\n",
    "    print(\"a is greater\")\n",
    "\n",
    "elif (b>=c and b>=a):\n",
    "    print(\"b is greater\")\n",
    "\n",
    "else:\n",
    "    print(\"c is greater\")"
   ]
  },
  {
   "cell_type": "code",
   "execution_count": null,
   "id": "284743b8",
   "metadata": {},
   "outputs": [
    {
     "name": "stdout",
     "output_type": "stream",
     "text": [
      " Sum of the elements of list is : 24\n"
     ]
    }
   ],
   "source": [
    "# WAP to sum the the elements in the list\n",
    "\n",
    "list= [1,2,3,4,5,9]\n",
    "\n",
    "sum= 0\n",
    "for num in list:\n",
    "\n",
    "    sum= sum + num\n",
    "    num= num+1\n",
    "\n",
    "\n",
    "print(\" Sum of the elements of list is :\", sum)\n"
   ]
  },
  {
   "cell_type": "code",
   "execution_count": null,
   "id": "eb6a7d74",
   "metadata": {},
   "outputs": [],
   "source": []
  }
 ],
 "metadata": {
  "kernelspec": {
   "display_name": "Python 3",
   "language": "python",
   "name": "python3"
  },
  "language_info": {
   "codemirror_mode": {
    "name": "ipython",
    "version": 3
   },
   "file_extension": ".py",
   "mimetype": "text/x-python",
   "name": "python",
   "nbconvert_exporter": "python",
   "pygments_lexer": "ipython3",
   "version": "3.13.5"
  }
 },
 "nbformat": 4,
 "nbformat_minor": 5
}
